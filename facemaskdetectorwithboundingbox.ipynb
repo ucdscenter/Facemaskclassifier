{
  "nbformat": 4,
  "nbformat_minor": 0,
  "metadata": {
    "colab": {
      "name": "Untitled0.ipynb",
      "provenance": []
    },
    "kernelspec": {
      "name": "python3",
      "display_name": "Python 3"
    },
    "accelerator": "GPU"
  },
  "cells": [
    {
      "cell_type": "code",
      "metadata": {
        "id": "Tg4Os0F-s3zX",
        "colab_type": "code",
        "colab": {
          "base_uri": "https://localhost:8080/",
          "height": 34
        },
        "outputId": "74c2eaf4-e260-4bbe-88e1-a73a9bde0250"
      },
      "source": [
        "ls"
      ],
      "execution_count": 1,
      "outputs": [
        {
          "output_type": "stream",
          "text": [
            "mymodel.zip  \u001b[0m\u001b[01;34msample_data\u001b[0m/\n"
          ],
          "name": "stdout"
        }
      ]
    },
    {
      "cell_type": "code",
      "metadata": {
        "id": "4dVj-sCNtOcV",
        "colab_type": "code",
        "colab": {}
      },
      "source": [
        "import zipfile\n",
        "import zipfile\n",
        "with zipfile.ZipFile('mymodel.zip', 'r') as zip_ref:\n",
        "    zip_ref.extractall('.')"
      ],
      "execution_count": 0,
      "outputs": []
    },
    {
      "cell_type": "code",
      "metadata": {
        "id": "p3szC6fUtaXd",
        "colab_type": "code",
        "colab": {
          "base_uri": "https://localhost:8080/",
          "height": 51
        },
        "outputId": "e6c20697-4b7b-4f76-d566-783c12ba56fa"
      },
      "source": [
        "ls"
      ],
      "execution_count": 6,
      "outputs": [
        {
          "output_type": "stream",
          "text": [
            "deploy.prototxt  \u001b[0m\u001b[01;34mmymodel\u001b[0m/     res10_300x300_ssd_iter_140000.caffemodel\n",
            "\u001b[01;34m__MACOSX\u001b[0m/        mymodel.zip  \u001b[01;34msample_data\u001b[0m/\n"
          ],
          "name": "stdout"
        }
      ]
    },
    {
      "cell_type": "code",
      "metadata": {
        "id": "b1NptV80tbcv",
        "colab_type": "code",
        "colab": {}
      },
      "source": [
        "import os\n",
        "os.chdir('mymodel')"
      ],
      "execution_count": 0,
      "outputs": []
    },
    {
      "cell_type": "code",
      "metadata": {
        "id": "yFGkZRN4thKi",
        "colab_type": "code",
        "colab": {
          "base_uri": "https://localhost:8080/",
          "height": 34
        },
        "outputId": "ab7fa168-49a7-46ad-b3eb-a29ee4688762"
      },
      "source": [
        "os.getcwd()"
      ],
      "execution_count": 10,
      "outputs": [
        {
          "output_type": "execute_result",
          "data": {
            "text/plain": [
              "'/content/mymodel'"
            ]
          },
          "metadata": {
            "tags": []
          },
          "execution_count": 10
        }
      ]
    },
    {
      "cell_type": "code",
      "metadata": {
        "id": "-iZkCRg1tlpx",
        "colab_type": "code",
        "colab": {}
      },
      "source": [
        "from tensorflow.keras.preprocessing.image import ImageDataGenerator\n",
        "from tensorflow.keras.applications import MobileNetV2\n",
        "from tensorflow.keras.layers import *\n",
        "from tensorflow.keras.optimizers import Adam\n",
        "from tensorflow.keras.applications.mobilenet_v2 import preprocess_input\n",
        "from tensorflow.keras.preprocessing.image import img_to_array\n",
        "from tensorflow.keras.preprocessing.image import load_img\n",
        "from tensorflow.keras.utils import to_categorical\n",
        "from sklearn.preprocessing import LabelBinarizer\n",
        "from sklearn.model_selection import train_test_split\n",
        "from sklearn.metrics import classification_report\n",
        "from imutils import paths\n",
        "import matplotlib.pyplot as plt\n",
        "import numpy as np\n",
        "import argparse"
      ],
      "execution_count": 0,
      "outputs": []
    },
    {
      "cell_type": "code",
      "metadata": {
        "id": "ZzLHXVhgt3Hl",
        "colab_type": "code",
        "colab": {}
      },
      "source": [
        "data_path = './data'"
      ],
      "execution_count": 0,
      "outputs": []
    },
    {
      "cell_type": "code",
      "metadata": {
        "id": "mJyKnlTOuJRK",
        "colab_type": "code",
        "colab": {}
      },
      "source": [
        "lst = os.listdir(data_path)\n",
        "if '.DS_Store' in lst:\n",
        "  lst.remove('.DS_Store')"
      ],
      "execution_count": 0,
      "outputs": []
    },
    {
      "cell_type": "code",
      "metadata": {
        "id": "ZU9zHxy9u32J",
        "colab_type": "code",
        "colab": {}
      },
      "source": [
        "data = []\n",
        "labels = []"
      ],
      "execution_count": 0,
      "outputs": []
    },
    {
      "cell_type": "code",
      "metadata": {
        "id": "WYqEsG_cu-85",
        "colab_type": "code",
        "colab": {
          "base_uri": "https://localhost:8080/",
          "height": 1000
        },
        "outputId": "d6fb84e8-81b6-4f30-fa83-b0c569ef3c44"
      },
      "source": [
        "paths_list = list(paths.list_images(data_path))\n",
        "paths_list"
      ],
      "execution_count": 12,
      "outputs": [
        {
          "output_type": "execute_result",
          "data": {
            "text/plain": [
              "['./data/without_mask/376.jpg',\n",
              " './data/without_mask/154.jpg',\n",
              " './data/without_mask/169.jpg',\n",
              " './data/without_mask/306.jpg',\n",
              " './data/without_mask/341.jpg',\n",
              " './data/without_mask/392.jpg',\n",
              " './data/without_mask/20.jpg',\n",
              " './data/without_mask/360.jpg',\n",
              " './data/without_mask/163.jpg',\n",
              " './data/without_mask/augmented_image_69.jpg',\n",
              " './data/without_mask/97.jpg',\n",
              " './data/without_mask/augmented_image_290.jpg',\n",
              " './data/without_mask/augmented_image_301.jpg',\n",
              " './data/without_mask/augmented_image_138.jpg',\n",
              " './data/without_mask/208.jpg',\n",
              " './data/without_mask/augmented_image_13.jpg',\n",
              " './data/without_mask/266.jpg',\n",
              " './data/without_mask/augmented_image_111.jpg',\n",
              " './data/without_mask/91.jpg',\n",
              " './data/without_mask/398.jpg',\n",
              " './data/without_mask/365.jpg',\n",
              " './data/without_mask/augmented_image_145.jpg',\n",
              " './data/without_mask/augmented_image_183.jpg',\n",
              " './data/without_mask/augmented_image_32.jpg',\n",
              " './data/without_mask/252.jpg',\n",
              " './data/without_mask/augmented_image_3.jpg',\n",
              " './data/without_mask/augmented_image_131.jpg',\n",
              " './data/without_mask/104.jpg',\n",
              " './data/without_mask/augmented_image_101.jpg',\n",
              " './data/without_mask/463.jpg',\n",
              " './data/without_mask/3.jpg',\n",
              " './data/without_mask/87.jpg',\n",
              " './data/without_mask/1.jpg',\n",
              " './data/without_mask/augmented_image_122.jpg',\n",
              " './data/without_mask/372.jpg',\n",
              " './data/without_mask/90.jpg',\n",
              " './data/without_mask/augmented_image_70.jpg',\n",
              " './data/without_mask/237.jpg',\n",
              " './data/without_mask/207.jpg',\n",
              " './data/without_mask/augmented_image_312.jpg',\n",
              " './data/without_mask/417.jpg',\n",
              " './data/without_mask/449.jpg',\n",
              " './data/without_mask/augmented_image_149.jpg',\n",
              " './data/without_mask/469.jpg',\n",
              " './data/without_mask/augmented_image_14.jpg',\n",
              " './data/without_mask/83.jpg',\n",
              " './data/without_mask/augmented_image_257.jpg',\n",
              " './data/without_mask/augmented_image_251.jpg',\n",
              " './data/without_mask/augmented_image_188.jpg',\n",
              " './data/without_mask/augmented_image_234.jpg',\n",
              " './data/without_mask/193.jpg',\n",
              " './data/without_mask/422.jpg',\n",
              " './data/without_mask/310.jpg',\n",
              " './data/without_mask/augmented_image_148.jpg',\n",
              " './data/without_mask/augmented_image_211.jpg',\n",
              " './data/without_mask/297.jpg',\n",
              " './data/without_mask/augmented_image_97.jpg',\n",
              " './data/without_mask/augmented_image_91.jpg',\n",
              " './data/without_mask/34.jpg',\n",
              " './data/without_mask/augmented_image_209.jpg',\n",
              " './data/without_mask/344.jpg',\n",
              " './data/without_mask/augmented_image_151.jpg',\n",
              " './data/without_mask/36.jpg',\n",
              " './data/without_mask/augmented_image_72.jpg',\n",
              " './data/without_mask/240.jpg',\n",
              " './data/without_mask/augmented_image_55.jpg',\n",
              " './data/without_mask/315.jpg',\n",
              " './data/without_mask/augmented_image_302.jpg',\n",
              " './data/without_mask/augmented_image_109.jpg',\n",
              " './data/without_mask/291.jpg',\n",
              " './data/without_mask/39.jpg',\n",
              " './data/without_mask/augmented_image_283.jpg',\n",
              " './data/without_mask/80.jpg',\n",
              " './data/without_mask/augmented_image_309.jpg',\n",
              " './data/without_mask/100.jpg',\n",
              " './data/without_mask/329.jpg',\n",
              " './data/without_mask/augmented_image_166.jpg',\n",
              " './data/without_mask/52.jpg',\n",
              " './data/without_mask/321.jpg',\n",
              " './data/without_mask/326.jpg',\n",
              " './data/without_mask/augmented_image_22.jpg',\n",
              " './data/without_mask/149.jpg',\n",
              " './data/without_mask/161.jpg',\n",
              " './data/without_mask/353.jpg',\n",
              " './data/without_mask/augmented_image_241.jpg',\n",
              " './data/without_mask/118.jpg',\n",
              " './data/without_mask/augmented_image_119.jpg',\n",
              " './data/without_mask/441.jpg',\n",
              " './data/without_mask/81.jpg',\n",
              " './data/without_mask/336.jpg',\n",
              " './data/without_mask/augmented_image_155.jpg',\n",
              " './data/without_mask/6.jpg',\n",
              " './data/without_mask/232.jpg',\n",
              " './data/without_mask/augmented_image_39.jpg',\n",
              " './data/without_mask/augmented_image_114.jpg',\n",
              " './data/without_mask/augmented_image_226.jpg',\n",
              " './data/without_mask/389.jpg',\n",
              " './data/without_mask/191.jpg',\n",
              " './data/without_mask/246.jpg',\n",
              " './data/without_mask/421.jpg',\n",
              " './data/without_mask/augmented_image_106.jpg',\n",
              " './data/without_mask/augmented_image_36.jpg',\n",
              " './data/without_mask/augmented_image_233.jpg',\n",
              " './data/without_mask/114.jpg',\n",
              " './data/without_mask/374.jpg',\n",
              " './data/without_mask/459.jpg',\n",
              " './data/without_mask/17.jpg',\n",
              " './data/without_mask/26.jpg',\n",
              " './data/without_mask/444.jpg',\n",
              " './data/without_mask/augmented_image_53.jpg',\n",
              " './data/without_mask/136.jpg',\n",
              " './data/without_mask/164.jpg',\n",
              " './data/without_mask/178.jpg',\n",
              " './data/without_mask/135.jpg',\n",
              " './data/without_mask/330.jpg',\n",
              " './data/without_mask/351.jpg',\n",
              " './data/without_mask/augmented_image_95.jpg',\n",
              " './data/without_mask/augmented_image_306.jpg',\n",
              " './data/without_mask/185.jpg',\n",
              " './data/without_mask/49.jpg',\n",
              " './data/without_mask/30.jpg',\n",
              " './data/without_mask/318.jpg',\n",
              " './data/without_mask/augmented_image_121.jpg',\n",
              " './data/without_mask/augmented_image_156.jpg',\n",
              " './data/without_mask/443.jpg',\n",
              " './data/without_mask/302.jpg',\n",
              " './data/without_mask/augmented_image_71.jpg',\n",
              " './data/without_mask/260.jpg',\n",
              " './data/without_mask/augmented_image_162.jpg',\n",
              " './data/without_mask/455.jpg',\n",
              " './data/without_mask/116.jpg',\n",
              " './data/without_mask/373.jpg',\n",
              " './data/without_mask/augmented_image_227.jpg',\n",
              " './data/without_mask/323.jpg',\n",
              " './data/without_mask/404.jpg',\n",
              " './data/without_mask/220.jpg',\n",
              " './data/without_mask/augmented_image_269.jpg',\n",
              " './data/without_mask/augmented_image_307.jpg',\n",
              " './data/without_mask/247.jpg',\n",
              " './data/without_mask/280.jpg',\n",
              " './data/without_mask/338.jpg',\n",
              " './data/without_mask/339.jpg',\n",
              " './data/without_mask/465.jpg',\n",
              " './data/without_mask/146.jpg',\n",
              " './data/without_mask/augmented_image_210.jpg',\n",
              " './data/without_mask/augmented_image_86.jpg',\n",
              " './data/without_mask/195.jpg',\n",
              " './data/without_mask/145.jpg',\n",
              " './data/without_mask/47.jpg',\n",
              " './data/without_mask/augmented_image_265.jpg',\n",
              " './data/without_mask/383.jpg',\n",
              " './data/without_mask/155.jpg',\n",
              " './data/without_mask/augmented_image_23.jpg',\n",
              " './data/without_mask/158.jpg',\n",
              " './data/without_mask/414.jpg',\n",
              " './data/without_mask/augmented_image_203.jpg',\n",
              " './data/without_mask/148.jpg',\n",
              " './data/without_mask/augmented_image_178.jpg',\n",
              " './data/without_mask/436.jpg',\n",
              " './data/without_mask/255.jpg',\n",
              " './data/without_mask/augmented_image_76.jpg',\n",
              " './data/without_mask/361.jpg',\n",
              " './data/without_mask/231.jpg',\n",
              " './data/without_mask/augmented_image_284.jpg',\n",
              " './data/without_mask/augmented_image_294.jpg',\n",
              " './data/without_mask/194.jpg',\n",
              " './data/without_mask/290.jpg',\n",
              " './data/without_mask/augmented_image_238.jpg',\n",
              " './data/without_mask/11.jpg',\n",
              " './data/without_mask/augmented_image_230.jpg',\n",
              " './data/without_mask/234.jpg',\n",
              " './data/without_mask/462.jpg',\n",
              " './data/without_mask/325.jpg',\n",
              " './data/without_mask/augmented_image_27.jpg',\n",
              " './data/without_mask/105.jpg',\n",
              " './data/without_mask/301.jpg',\n",
              " './data/without_mask/187.jpg',\n",
              " './data/without_mask/augmented_image_160.jpg',\n",
              " './data/without_mask/augmented_image_133.jpg',\n",
              " './data/without_mask/augmented_image_132.jpg',\n",
              " './data/without_mask/198.jpg',\n",
              " './data/without_mask/186.jpg',\n",
              " './data/without_mask/89.jpg',\n",
              " './data/without_mask/322.jpg',\n",
              " './data/without_mask/348.jpg',\n",
              " './data/without_mask/augmented_image_181.jpg',\n",
              " './data/without_mask/augmented_image_43.jpg',\n",
              " './data/without_mask/augmented_image_62.jpg',\n",
              " './data/without_mask/299.jpg',\n",
              " './data/without_mask/211.jpg',\n",
              " './data/without_mask/augmented_image_214.jpg',\n",
              " './data/without_mask/179.jpg',\n",
              " './data/without_mask/430.jpg',\n",
              " './data/without_mask/augmented_image_31.jpg',\n",
              " './data/without_mask/augmented_image_245.jpg',\n",
              " './data/without_mask/447.jpg',\n",
              " './data/without_mask/480.jpg',\n",
              " './data/without_mask/augmented_image_65.jpg',\n",
              " './data/without_mask/289.jpg',\n",
              " './data/without_mask/augmented_image_150.jpg',\n",
              " './data/without_mask/461.jpg',\n",
              " './data/without_mask/413.jpg',\n",
              " './data/without_mask/augmented_image_314.jpg',\n",
              " './data/without_mask/augmented_image_20.jpg',\n",
              " './data/without_mask/267.jpg',\n",
              " './data/without_mask/9.jpg',\n",
              " './data/without_mask/augmented_image_260.jpg',\n",
              " './data/without_mask/201.jpg',\n",
              " './data/without_mask/28.jpg',\n",
              " './data/without_mask/203.jpg',\n",
              " './data/without_mask/196.jpg',\n",
              " './data/without_mask/411.jpg',\n",
              " './data/without_mask/augmented_image_266.jpg',\n",
              " './data/without_mask/386.jpg',\n",
              " './data/without_mask/45.jpg',\n",
              " './data/without_mask/401.jpg',\n",
              " './data/without_mask/augmented_image_304.jpg',\n",
              " './data/without_mask/370.jpg',\n",
              " './data/without_mask/423.jpg',\n",
              " './data/without_mask/242.jpg',\n",
              " './data/without_mask/352.jpg',\n",
              " './data/without_mask/270.jpg',\n",
              " './data/without_mask/143.jpg',\n",
              " './data/without_mask/300.jpg',\n",
              " './data/without_mask/108.jpg',\n",
              " './data/without_mask/augmented_image_196.jpg',\n",
              " './data/without_mask/477.jpg',\n",
              " './data/without_mask/181.jpg',\n",
              " './data/without_mask/53.jpg',\n",
              " './data/without_mask/287.jpg',\n",
              " './data/without_mask/augmented_image_85.jpg',\n",
              " './data/without_mask/62.jpg',\n",
              " './data/without_mask/augmented_image_100.jpg',\n",
              " './data/without_mask/augmented_image_316.jpg',\n",
              " './data/without_mask/125.jpg',\n",
              " './data/without_mask/119.jpg',\n",
              " './data/without_mask/augmented_image_272.jpg',\n",
              " './data/without_mask/364.jpg',\n",
              " './data/without_mask/394.jpg',\n",
              " './data/without_mask/augmented_image_298.jpg',\n",
              " './data/without_mask/augmented_image_135.jpg',\n",
              " './data/without_mask/augmented_image_88.jpg',\n",
              " './data/without_mask/309.jpg',\n",
              " './data/without_mask/99.jpg',\n",
              " './data/without_mask/115.jpg',\n",
              " './data/without_mask/augmented_image_221.jpg',\n",
              " './data/without_mask/217.jpg',\n",
              " './data/without_mask/augmented_image_275.jpg',\n",
              " './data/without_mask/54.jpg',\n",
              " './data/without_mask/221.jpg',\n",
              " './data/without_mask/363.jpg',\n",
              " './data/without_mask/224.jpg',\n",
              " './data/without_mask/augmented_image_187.jpg',\n",
              " './data/without_mask/24.jpg',\n",
              " './data/without_mask/160.jpg',\n",
              " './data/without_mask/188.jpg',\n",
              " './data/without_mask/58.jpg',\n",
              " './data/without_mask/40.jpg',\n",
              " './data/without_mask/316.jpg',\n",
              " './data/without_mask/262.jpg',\n",
              " './data/without_mask/388.jpg',\n",
              " './data/without_mask/augmented_image_130.jpg',\n",
              " './data/without_mask/434.jpg',\n",
              " './data/without_mask/augmented_image_243.jpg',\n",
              " './data/without_mask/augmented_image_278.jpg',\n",
              " './data/without_mask/augmented_image_237.jpg',\n",
              " './data/without_mask/228.jpg',\n",
              " './data/without_mask/95.jpg',\n",
              " './data/without_mask/437.jpg',\n",
              " './data/without_mask/397.jpg',\n",
              " './data/without_mask/augmented_image_308.jpg',\n",
              " './data/without_mask/283.jpg',\n",
              " './data/without_mask/augmented_image_1.jpg',\n",
              " './data/without_mask/augmented_image_229.jpg',\n",
              " './data/without_mask/augmented_image_279.jpg',\n",
              " './data/without_mask/augmented_image_277.jpg',\n",
              " './data/without_mask/475.jpg',\n",
              " './data/without_mask/augmented_image_116.jpg',\n",
              " './data/without_mask/augmented_image_117.jpg',\n",
              " './data/without_mask/18.jpg',\n",
              " './data/without_mask/284.jpg',\n",
              " './data/without_mask/173.jpg',\n",
              " './data/without_mask/327.jpg',\n",
              " './data/without_mask/augmented_image_255.jpg',\n",
              " './data/without_mask/93.jpg',\n",
              " './data/without_mask/augmented_image_33.jpg',\n",
              " './data/without_mask/augmented_image_35.jpg',\n",
              " './data/without_mask/438.jpg',\n",
              " './data/without_mask/410.jpg',\n",
              " './data/without_mask/augmented_image_317.jpg',\n",
              " './data/without_mask/174.jpg',\n",
              " './data/without_mask/augmented_image_235.jpg',\n",
              " './data/without_mask/augmented_image_193.jpg',\n",
              " './data/without_mask/augmented_image_246.jpg',\n",
              " './data/without_mask/184.jpg',\n",
              " './data/without_mask/augmented_image_170.jpg',\n",
              " './data/without_mask/282.jpg',\n",
              " './data/without_mask/65.jpg',\n",
              " './data/without_mask/augmented_image_201.jpg',\n",
              " './data/without_mask/259.jpg',\n",
              " './data/without_mask/408.jpg',\n",
              " './data/without_mask/226.jpg',\n",
              " './data/without_mask/476.jpg',\n",
              " './data/without_mask/augmented_image_129.jpg',\n",
              " './data/without_mask/340.jpg',\n",
              " './data/without_mask/264.jpg',\n",
              " './data/without_mask/227.jpg',\n",
              " './data/without_mask/206.jpg',\n",
              " './data/without_mask/139.jpg',\n",
              " './data/without_mask/468.jpg',\n",
              " './data/without_mask/159.jpg',\n",
              " './data/without_mask/augmented_image_125.jpg',\n",
              " './data/without_mask/0.jpg',\n",
              " './data/without_mask/augmented_image_273.jpg',\n",
              " './data/without_mask/384.jpg',\n",
              " './data/without_mask/augmented_image_153.jpg',\n",
              " './data/without_mask/67.jpg',\n",
              " './data/without_mask/augmented_image_136.jpg',\n",
              " './data/without_mask/augmented_image_12.jpg',\n",
              " './data/without_mask/183.jpg',\n",
              " './data/without_mask/augmented_image_41.jpg',\n",
              " './data/without_mask/augmented_image_182.jpg',\n",
              " './data/without_mask/12.jpg',\n",
              " './data/without_mask/142.jpg',\n",
              " './data/without_mask/43.jpg',\n",
              " './data/without_mask/augmented_image_281.jpg',\n",
              " './data/without_mask/460.jpg',\n",
              " './data/without_mask/16.jpg',\n",
              " './data/without_mask/131.jpg',\n",
              " './data/without_mask/409.jpg',\n",
              " './data/without_mask/177.jpg',\n",
              " './data/without_mask/augmented_image_191.jpg',\n",
              " './data/without_mask/augmented_image_60.jpg',\n",
              " './data/without_mask/84.jpg',\n",
              " './data/without_mask/239.jpg',\n",
              " './data/without_mask/augmented_image_73.jpg',\n",
              " './data/without_mask/435.jpg',\n",
              " './data/without_mask/augmented_image_239.jpg',\n",
              " './data/without_mask/augmented_image_98.jpg',\n",
              " './data/without_mask/augmented_image_80.jpg',\n",
              " './data/without_mask/347.jpg',\n",
              " './data/without_mask/19.jpg',\n",
              " './data/without_mask/127.jpg',\n",
              " './data/without_mask/augmented_image_77.jpg',\n",
              " './data/without_mask/385.jpg',\n",
              " './data/without_mask/23.jpg',\n",
              " './data/without_mask/439.jpg',\n",
              " './data/without_mask/176.jpg',\n",
              " './data/without_mask/432.jpg',\n",
              " './data/without_mask/312.jpg',\n",
              " './data/without_mask/265.jpg',\n",
              " './data/without_mask/390.jpg',\n",
              " './data/without_mask/440.jpg',\n",
              " './data/without_mask/225.jpg',\n",
              " './data/without_mask/375.jpg',\n",
              " './data/without_mask/augmented_image_180.jpg',\n",
              " './data/without_mask/416.jpg',\n",
              " './data/without_mask/132.jpg',\n",
              " './data/without_mask/467.jpg',\n",
              " './data/without_mask/405.jpg',\n",
              " './data/without_mask/278.jpg',\n",
              " './data/without_mask/137.jpg',\n",
              " './data/without_mask/151.jpg',\n",
              " './data/without_mask/244.jpg',\n",
              " './data/without_mask/243.jpg',\n",
              " './data/without_mask/37.jpg',\n",
              " './data/without_mask/86.jpg',\n",
              " './data/without_mask/augmented_image_202.jpg',\n",
              " './data/without_mask/308.jpg',\n",
              " './data/without_mask/augmented_image_292.jpg',\n",
              " './data/without_mask/61.jpg',\n",
              " './data/without_mask/229.jpg',\n",
              " './data/without_mask/152.jpg',\n",
              " './data/without_mask/augmented_image_177.jpg',\n",
              " './data/without_mask/292.jpg',\n",
              " './data/without_mask/augmented_image_232.jpg',\n",
              " './data/without_mask/augmented_image_299.jpg',\n",
              " './data/without_mask/augmented_image_52.jpg',\n",
              " './data/without_mask/335.jpg',\n",
              " './data/without_mask/275.jpg',\n",
              " './data/without_mask/augmented_image_25.jpg',\n",
              " './data/without_mask/augmented_image_263.jpg',\n",
              " './data/without_mask/393.jpg',\n",
              " './data/without_mask/464.jpg',\n",
              " './data/without_mask/augmented_image_285.jpg',\n",
              " './data/without_mask/augmented_image_59.jpg',\n",
              " './data/without_mask/augmented_image_295.jpg',\n",
              " './data/without_mask/230.jpg',\n",
              " './data/without_mask/augmented_image_82.jpg',\n",
              " './data/without_mask/102.jpg',\n",
              " './data/without_mask/168.jpg',\n",
              " './data/without_mask/466.jpg',\n",
              " './data/without_mask/15.jpg',\n",
              " './data/without_mask/augmented_image_64.jpg',\n",
              " './data/without_mask/399.jpg',\n",
              " './data/without_mask/augmented_image_67.jpg',\n",
              " './data/without_mask/48.jpg',\n",
              " './data/without_mask/augmented_image_61.jpg',\n",
              " './data/without_mask/162.jpg',\n",
              " './data/without_mask/138.jpg',\n",
              " './data/without_mask/augmented_image_5.jpg',\n",
              " './data/without_mask/256.jpg',\n",
              " './data/without_mask/augmented_image_37.jpg',\n",
              " './data/without_mask/augmented_image_144.jpg',\n",
              " './data/without_mask/50.jpg',\n",
              " './data/without_mask/augmented_image_112.jpg',\n",
              " './data/without_mask/298.jpg',\n",
              " './data/without_mask/augmented_image_204.jpg',\n",
              " './data/without_mask/augmented_image_57.jpg',\n",
              " './data/without_mask/augmented_image_315.jpg',\n",
              " './data/without_mask/334.jpg',\n",
              " './data/without_mask/augmented_image_17.jpg',\n",
              " './data/without_mask/augmented_image_92.jpg',\n",
              " './data/without_mask/augmented_image_249.jpg',\n",
              " './data/without_mask/171.jpg',\n",
              " './data/without_mask/augmented_image_154.jpg',\n",
              " './data/without_mask/augmented_image_120.jpg',\n",
              " './data/without_mask/augmented_image_198.jpg',\n",
              " './data/without_mask/66.jpg',\n",
              " './data/without_mask/395.jpg',\n",
              " './data/without_mask/augmented_image_197.jpg',\n",
              " './data/without_mask/augmented_image_174.jpg',\n",
              " './data/without_mask/augmented_image_83.jpg',\n",
              " './data/without_mask/94.jpg',\n",
              " './data/without_mask/augmented_image_44.jpg',\n",
              " './data/without_mask/328.jpg',\n",
              " './data/without_mask/419.jpg',\n",
              " './data/without_mask/augmented_image_205.jpg',\n",
              " './data/without_mask/augmented_image_99.jpg',\n",
              " './data/without_mask/128.jpg',\n",
              " './data/without_mask/augmented_image_18.jpg',\n",
              " './data/without_mask/42.jpg',\n",
              " './data/without_mask/44.jpg',\n",
              " './data/without_mask/349.jpg',\n",
              " './data/without_mask/445.jpg',\n",
              " './data/without_mask/170.jpg',\n",
              " './data/without_mask/141.jpg',\n",
              " './data/without_mask/31.jpg',\n",
              " './data/without_mask/augmented_image_137.jpg',\n",
              " './data/without_mask/457.jpg',\n",
              " './data/without_mask/456.jpg',\n",
              " './data/without_mask/402.jpg',\n",
              " './data/without_mask/367.jpg',\n",
              " './data/without_mask/276.jpg',\n",
              " './data/without_mask/augmented_image_78.jpg',\n",
              " './data/without_mask/192.jpg',\n",
              " './data/without_mask/augmented_image_171.jpg',\n",
              " './data/without_mask/117.jpg',\n",
              " './data/without_mask/augmented_image_81.jpg',\n",
              " './data/without_mask/387.jpg',\n",
              " './data/without_mask/augmented_image_66.jpg',\n",
              " './data/without_mask/augmented_image_216.jpg',\n",
              " './data/without_mask/64.jpg',\n",
              " './data/without_mask/403.jpg',\n",
              " './data/without_mask/augmented_image_79.jpg',\n",
              " './data/without_mask/415.jpg',\n",
              " './data/without_mask/286.jpg',\n",
              " './data/without_mask/augmented_image_93.jpg',\n",
              " './data/without_mask/293.jpg',\n",
              " './data/without_mask/446.jpg',\n",
              " './data/without_mask/augmented_image_152.jpg',\n",
              " './data/without_mask/448.jpg',\n",
              " './data/without_mask/249.jpg',\n",
              " './data/without_mask/112.jpg',\n",
              " './data/without_mask/augmented_image_50.jpg',\n",
              " './data/without_mask/augmented_image_303.jpg',\n",
              " './data/without_mask/augmented_image_254.jpg',\n",
              " './data/without_mask/98.jpg',\n",
              " './data/without_mask/63.jpg',\n",
              " './data/without_mask/augmented_image_87.jpg',\n",
              " './data/without_mask/269.jpg',\n",
              " './data/without_mask/augmented_image_90.jpg',\n",
              " './data/without_mask/augmented_image_215.jpg',\n",
              " './data/without_mask/augmented_image_40.jpg',\n",
              " './data/without_mask/augmented_image_115.jpg',\n",
              " './data/without_mask/391.jpg',\n",
              " './data/without_mask/augmented_image_280.jpg',\n",
              " './data/without_mask/317.jpg',\n",
              " './data/without_mask/augmented_image_179.jpg',\n",
              " './data/without_mask/augmented_image_318.jpg',\n",
              " './data/without_mask/augmented_image_225.jpg',\n",
              " './data/without_mask/175.jpg',\n",
              " './data/without_mask/augmented_image_4.jpg',\n",
              " './data/without_mask/109.jpg',\n",
              " './data/without_mask/426.jpg',\n",
              " './data/without_mask/augmented_image_123.jpg',\n",
              " './data/without_mask/augmented_image_157.jpg',\n",
              " './data/without_mask/69.jpg',\n",
              " './data/without_mask/107.jpg',\n",
              " './data/without_mask/augmented_image_185.jpg',\n",
              " './data/without_mask/101.jpg',\n",
              " './data/without_mask/27.jpg',\n",
              " './data/without_mask/augmented_image_113.jpg',\n",
              " './data/without_mask/augmented_image_206.jpg',\n",
              " './data/without_mask/augmented_image_89.jpg',\n",
              " './data/without_mask/332.jpg',\n",
              " './data/without_mask/augmented_image_271.jpg',\n",
              " './data/without_mask/355.jpg',\n",
              " './data/without_mask/augmented_image_186.jpg',\n",
              " './data/without_mask/augmented_image_68.jpg',\n",
              " './data/without_mask/285.jpg',\n",
              " './data/without_mask/14.jpg',\n",
              " './data/without_mask/378.jpg',\n",
              " './data/without_mask/augmented_image_267.jpg',\n",
              " './data/without_mask/augmented_image_142.jpg',\n",
              " './data/without_mask/augmented_image_250.jpg',\n",
              " './data/without_mask/197.jpg',\n",
              " './data/without_mask/augmented_image_189.jpg',\n",
              " './data/without_mask/250.jpg',\n",
              " './data/without_mask/337.jpg',\n",
              " './data/without_mask/augmented_image_194.jpg',\n",
              " './data/without_mask/140.jpg',\n",
              " './data/without_mask/122.jpg',\n",
              " './data/without_mask/70.jpg',\n",
              " './data/without_mask/368.jpg',\n",
              " './data/without_mask/359.jpg',\n",
              " './data/without_mask/augmented_image_297.jpg',\n",
              " './data/without_mask/augmented_image_231.jpg',\n",
              " './data/without_mask/augmented_image_240.jpg',\n",
              " './data/without_mask/428.jpg',\n",
              " './data/without_mask/251.jpg',\n",
              " './data/without_mask/augmented_image_103.jpg',\n",
              " './data/without_mask/79.jpg',\n",
              " './data/without_mask/88.jpg',\n",
              " './data/without_mask/augmented_image_282.jpg',\n",
              " './data/without_mask/33.jpg',\n",
              " './data/without_mask/450.jpg',\n",
              " './data/without_mask/augmented_image_16.jpg',\n",
              " './data/without_mask/2.jpg',\n",
              " './data/without_mask/augmented_image_296.jpg',\n",
              " './data/without_mask/73.jpg',\n",
              " './data/without_mask/213.jpg',\n",
              " './data/without_mask/427.jpg',\n",
              " './data/without_mask/augmented_image_74.jpg',\n",
              " './data/without_mask/345.jpg',\n",
              " './data/without_mask/augmented_image_84.jpg',\n",
              " './data/without_mask/augmented_image_165.jpg',\n",
              " './data/without_mask/augmented_image_219.jpg',\n",
              " './data/without_mask/254.jpg',\n",
              " './data/without_mask/218.jpg',\n",
              " './data/without_mask/222.jpg',\n",
              " './data/without_mask/124.jpg',\n",
              " './data/without_mask/442.jpg',\n",
              " './data/without_mask/augmented_image_56.jpg',\n",
              " './data/without_mask/311.jpg',\n",
              " './data/without_mask/augmented_image_143.jpg',\n",
              " './data/without_mask/319.jpg',\n",
              " './data/without_mask/111.jpg',\n",
              " './data/without_mask/263.jpg',\n",
              " './data/without_mask/augmented_image_19.jpg',\n",
              " './data/without_mask/288.jpg',\n",
              " './data/without_mask/augmented_image_45.jpg',\n",
              " './data/without_mask/216.jpg',\n",
              " './data/without_mask/420.jpg',\n",
              " './data/without_mask/augmented_image_223.jpg',\n",
              " './data/without_mask/augmented_image_141.jpg',\n",
              " './data/without_mask/453.jpg',\n",
              " './data/without_mask/454.jpg',\n",
              " './data/without_mask/augmented_image_54.jpg',\n",
              " './data/without_mask/augmented_image_207.jpg',\n",
              " './data/without_mask/augmented_image_30.jpg',\n",
              " './data/without_mask/augmented_image_158.jpg',\n",
              " './data/without_mask/120.jpg',\n",
              " './data/without_mask/133.jpg',\n",
              " './data/without_mask/augmented_image_107.jpg',\n",
              " './data/without_mask/129.jpg',\n",
              " './data/without_mask/augmented_image_262.jpg',\n",
              " './data/without_mask/354.jpg',\n",
              " './data/without_mask/augmented_image_176.jpg',\n",
              " './data/without_mask/56.jpg',\n",
              " './data/without_mask/134.jpg',\n",
              " './data/without_mask/augmented_image_291.jpg',\n",
              " './data/without_mask/augmented_image_184.jpg',\n",
              " './data/without_mask/augmented_image_224.jpg',\n",
              " './data/without_mask/4.jpg',\n",
              " './data/without_mask/157.jpg',\n",
              " './data/without_mask/271.jpg',\n",
              " './data/without_mask/406.jpg',\n",
              " './data/without_mask/augmented_image_63.jpg',\n",
              " './data/without_mask/407.jpg',\n",
              " './data/without_mask/166.jpg',\n",
              " './data/without_mask/augmented_image_199.jpg',\n",
              " './data/without_mask/augmented_image_258.jpg',\n",
              " './data/without_mask/augmented_image_311.jpg',\n",
              " './data/without_mask/452.jpg',\n",
              " './data/without_mask/augmented_image_134.jpg',\n",
              " './data/without_mask/379.jpg',\n",
              " './data/without_mask/233.jpg',\n",
              " './data/without_mask/augmented_image_222.jpg',\n",
              " './data/without_mask/augmented_image_293.jpg',\n",
              " './data/without_mask/augmented_image_161.jpg',\n",
              " './data/without_mask/294.jpg',\n",
              " './data/without_mask/augmented_image_172.jpg',\n",
              " './data/without_mask/350.jpg',\n",
              " './data/without_mask/478.jpg',\n",
              " './data/without_mask/74.jpg',\n",
              " './data/without_mask/46.jpg',\n",
              " './data/without_mask/362.jpg',\n",
              " './data/without_mask/augmented_image_147.jpg',\n",
              " './data/without_mask/augmented_image_7.jpg',\n",
              " './data/without_mask/augmented_image_286.jpg',\n",
              " './data/without_mask/356.jpg',\n",
              " './data/without_mask/augmented_image_21.jpg',\n",
              " './data/without_mask/32.jpg',\n",
              " './data/without_mask/281.jpg',\n",
              " './data/without_mask/59.jpg',\n",
              " './data/without_mask/253.jpg',\n",
              " './data/without_mask/augmented_image_139.jpg',\n",
              " './data/without_mask/295.jpg',\n",
              " './data/without_mask/451.jpg',\n",
              " './data/without_mask/51.jpg',\n",
              " './data/without_mask/210.jpg',\n",
              " './data/without_mask/130.jpg',\n",
              " './data/without_mask/215.jpg',\n",
              " './data/without_mask/augmented_image_2.jpg',\n",
              " './data/without_mask/77.jpg',\n",
              " './data/without_mask/augmented_image_105.jpg',\n",
              " './data/without_mask/96.jpg',\n",
              " './data/without_mask/223.jpg',\n",
              " './data/without_mask/augmented_image_118.jpg',\n",
              " './data/without_mask/augmented_image_236.jpg',\n",
              " './data/without_mask/400.jpg',\n",
              " './data/without_mask/204.jpg',\n",
              " './data/without_mask/augmented_image_38.jpg',\n",
              " './data/without_mask/458.jpg',\n",
              " './data/without_mask/augmented_image_305.jpg',\n",
              " './data/without_mask/augmented_image_164.jpg',\n",
              " './data/without_mask/431.jpg',\n",
              " './data/without_mask/153.jpg',\n",
              " './data/without_mask/324.jpg',\n",
              " './data/without_mask/augmented_image_58.jpg',\n",
              " './data/without_mask/augmented_image_48.jpg',\n",
              " './data/without_mask/22.jpg',\n",
              " './data/without_mask/augmented_image_169.jpg',\n",
              " './data/without_mask/172.jpg',\n",
              " './data/without_mask/augmented_image_256.jpg',\n",
              " './data/without_mask/110.jpg',\n",
              " './data/without_mask/augmented_image_124.jpg',\n",
              " './data/without_mask/29.jpg',\n",
              " './data/without_mask/7.jpg',\n",
              " './data/without_mask/55.jpg',\n",
              " './data/without_mask/augmented_image_175.jpg',\n",
              " './data/without_mask/augmented_image_244.jpg',\n",
              " './data/without_mask/156.jpg',\n",
              " './data/without_mask/augmented_image_173.jpg',\n",
              " './data/without_mask/248.jpg',\n",
              " './data/without_mask/augmented_image_168.jpg',\n",
              " './data/without_mask/123.jpg',\n",
              " './data/without_mask/augmented_image_42.jpg',\n",
              " './data/without_mask/76.jpg',\n",
              " './data/without_mask/augmented_image_310.jpg',\n",
              " './data/without_mask/331.jpg',\n",
              " './data/without_mask/13.jpg',\n",
              " './data/without_mask/303.jpg',\n",
              " './data/without_mask/307.jpg',\n",
              " './data/without_mask/241.jpg',\n",
              " './data/without_mask/augmented_image_163.jpg',\n",
              " './data/without_mask/180.jpg',\n",
              " './data/without_mask/augmented_image_192.jpg',\n",
              " './data/without_mask/57.jpg',\n",
              " './data/without_mask/augmented_image_127.jpg',\n",
              " './data/without_mask/261.jpg',\n",
              " './data/without_mask/augmented_image_253.jpg',\n",
              " './data/without_mask/augmented_image_208.jpg',\n",
              " './data/without_mask/412.jpg',\n",
              " './data/without_mask/425.jpg',\n",
              " './data/without_mask/augmented_image_140.jpg',\n",
              " './data/without_mask/augmented_image_128.jpg',\n",
              " './data/without_mask/92.jpg',\n",
              " './data/without_mask/augmented_image_319.jpg',\n",
              " './data/without_mask/214.jpg',\n",
              " './data/without_mask/106.jpg',\n",
              " './data/without_mask/augmented_image_94.jpg',\n",
              " './data/without_mask/augmented_image_96.jpg',\n",
              " './data/without_mask/augmented_image_200.jpg',\n",
              " './data/without_mask/augmented_image_270.jpg',\n",
              " './data/without_mask/augmented_image_126.jpg',\n",
              " './data/without_mask/augmented_image_51.jpg',\n",
              " './data/without_mask/424.jpg',\n",
              " './data/without_mask/258.jpg',\n",
              " './data/without_mask/augmented_image_276.jpg',\n",
              " './data/without_mask/10.jpg',\n",
              " './data/without_mask/augmented_image_252.jpg',\n",
              " './data/without_mask/augmented_image_220.jpg',\n",
              " './data/without_mask/212.jpg',\n",
              " './data/without_mask/augmented_image_287.jpg',\n",
              " './data/with_mask/261-with-mask.jpg',\n",
              " './data/with_mask/196-with-mask.jpg',\n",
              " './data/with_mask/327-with-mask.jpg',\n",
              " './data/with_mask/augmented_image_69.jpg',\n",
              " './data/with_mask/augmented_image_138.jpg',\n",
              " './data/with_mask/427-with-mask.jpg',\n",
              " './data/with_mask/140-with-mask.jpg',\n",
              " './data/with_mask/augmented_image_13.jpg',\n",
              " './data/with_mask/100-with-mask.jpg',\n",
              " './data/with_mask/augmented_image_111.jpg',\n",
              " './data/with_mask/358-with-mask.jpg',\n",
              " './data/with_mask/313-with-mask.jpg',\n",
              " './data/with_mask/442-with-mask.jpg',\n",
              " './data/with_mask/245-with-mask.jpg',\n",
              " './data/with_mask/375-with-mask.jpg',\n",
              " './data/with_mask/augmented_image_145.jpg',\n",
              " './data/with_mask/augmented_image_183.jpg',\n",
              " './data/with_mask/112-with-mask.jpg',\n",
              " './data/with_mask/10-with-mask.jpg',\n",
              " './data/with_mask/augmented_image_32.jpg',\n",
              " './data/with_mask/133-with-mask.jpg',\n",
              " './data/with_mask/augmented_image_3.jpg',\n",
              " './data/with_mask/augmented_image_131.jpg',\n",
              " './data/with_mask/281-with-mask.jpg',\n",
              " './data/with_mask/113-with-mask.jpg',\n",
              " './data/with_mask/augmented_image_101.jpg',\n",
              " './data/with_mask/171-with-mask.jpg',\n",
              " './data/with_mask/223-with-mask.jpg',\n",
              " './data/with_mask/17-with-mask.jpg',\n",
              " './data/with_mask/augmented_image_122.jpg',\n",
              " './data/with_mask/151-with-mask.jpg',\n",
              " './data/with_mask/augmented_image_242.jpg',\n",
              " './data/with_mask/augmented_image_70.jpg',\n",
              " './data/with_mask/94-with-mask.jpg',\n",
              " './data/with_mask/449-with-mask.jpg',\n",
              " './data/with_mask/91-with-mask.jpg',\n",
              " './data/with_mask/351-with-mask.jpg',\n",
              " './data/with_mask/308-with-mask.jpg',\n",
              " './data/with_mask/268-with-mask.jpg',\n",
              " './data/with_mask/282-with-mask.jpg',\n",
              " './data/with_mask/augmented_image_149.jpg',\n",
              " './data/with_mask/augmented_image_14.jpg',\n",
              " './data/with_mask/479-with-mask.jpg',\n",
              " './data/with_mask/279-with-mask.jpg',\n",
              " './data/with_mask/augmented_image_257.jpg',\n",
              " './data/with_mask/augmented_image_251.jpg',\n",
              " './data/with_mask/augmented_image_261.jpg',\n",
              " './data/with_mask/augmented_image_188.jpg',\n",
              " './data/with_mask/augmented_image_234.jpg',\n",
              " './data/with_mask/27-with-mask.jpg',\n",
              " './data/with_mask/augmented_image_148.jpg',\n",
              " './data/with_mask/255-with-mask.jpg',\n",
              " './data/with_mask/456-with-mask.jpg',\n",
              " './data/with_mask/augmented_image_211.jpg',\n",
              " './data/with_mask/190-with-mask.jpg',\n",
              " './data/with_mask/augmented_image_97.jpg',\n",
              " './data/with_mask/290-with-mask.jpg',\n",
              " './data/with_mask/augmented_image_91.jpg',\n",
              " './data/with_mask/augmented_image_209.jpg',\n",
              " './data/with_mask/415-with-mask.jpg',\n",
              " './data/with_mask/108-with-mask.jpg',\n",
              " './data/with_mask/186-with-mask.jpg',\n",
              " './data/with_mask/augmented_image_151.jpg',\n",
              " './data/with_mask/288-with-mask.jpg',\n",
              " './data/with_mask/450-with-mask.jpg',\n",
              " './data/with_mask/augmented_image_72.jpg',\n",
              " './data/with_mask/68-with-mask.jpg',\n",
              " './data/with_mask/augmented_image_55.jpg',\n",
              " './data/with_mask/335-with-mask.jpg',\n",
              " './data/with_mask/192-with-mask.jpg',\n",
              " './data/with_mask/380-with-mask.jpg',\n",
              " './data/with_mask/436-with-mask.jpg',\n",
              " './data/with_mask/augmented_image_109.jpg',\n",
              " './data/with_mask/390-with-mask.jpg',\n",
              " './data/with_mask/344-with-mask.jpg',\n",
              " './data/with_mask/131-with-mask.jpg',\n",
              " './data/with_mask/302-with-mask.jpg',\n",
              " './data/with_mask/293-with-mask.jpg',\n",
              " './data/with_mask/229-with-mask.jpg',\n",
              " './data/with_mask/209-with-mask.jpg',\n",
              " './data/with_mask/augmented_image_166.jpg',\n",
              " './data/with_mask/4-with-mask.jpg',\n",
              " './data/with_mask/314-with-mask.jpg',\n",
              " './data/with_mask/augmented_image_22.jpg',\n",
              " './data/with_mask/120-with-mask.jpg',\n",
              " './data/with_mask/38-with-mask.jpg',\n",
              " './data/with_mask/augmented_image_119.jpg',\n",
              " './data/with_mask/augmented_image_155.jpg',\n",
              " './data/with_mask/324-with-mask.jpg',\n",
              " './data/with_mask/augmented_image_39.jpg',\n",
              " './data/with_mask/augmented_image_114.jpg',\n",
              " './data/with_mask/6-with-mask.jpg',\n",
              " './data/with_mask/115-with-mask.jpg',\n",
              " './data/with_mask/augmented_image_106.jpg',\n",
              " './data/with_mask/augmented_image_36.jpg',\n",
              " './data/with_mask/339-with-mask.jpg',\n",
              " './data/with_mask/438-with-mask.jpg',\n",
              " './data/with_mask/32-with-mask.jpg',\n",
              " './data/with_mask/444-with-mask.jpg',\n",
              " './data/with_mask/augmented_image_53.jpg',\n",
              " './data/with_mask/89-with-mask.jpg',\n",
              " './data/with_mask/172-with-mask.jpg',\n",
              " './data/with_mask/augmented_image_306.jpg',\n",
              " './data/with_mask/76-with-mask.jpg',\n",
              " './data/with_mask/269-with-mask.jpg',\n",
              " './data/with_mask/251-with-mask.jpg',\n",
              " './data/with_mask/96-with-mask.jpg',\n",
              " './data/with_mask/augmented_image_121.jpg',\n",
              " './data/with_mask/augmented_image_156.jpg',\n",
              " './data/with_mask/124-with-mask.jpg',\n",
              " './data/with_mask/35-with-mask.jpg',\n",
              " './data/with_mask/419-with-mask.jpg',\n",
              " './data/with_mask/augmented_image_71.jpg',\n",
              " './data/with_mask/augmented_image_162.jpg',\n",
              " './data/with_mask/236-with-mask.jpg',\n",
              " './data/with_mask/augmented_image_104.jpg',\n",
              " './data/with_mask/augmented_image_227.jpg',\n",
              " './data/with_mask/387-with-mask.jpg',\n",
              " './data/with_mask/74-with-mask.jpg',\n",
              " './data/with_mask/77-with-mask.jpg',\n",
              " './data/with_mask/augmented_image_217.jpg',\n",
              " './data/with_mask/33-with-mask.jpg',\n",
              " './data/with_mask/62-with-mask.jpg',\n",
              " './data/with_mask/259-with-mask.jpg',\n",
              " './data/with_mask/307-with-mask.jpg',\n",
              " './data/with_mask/24-with-mask.jpg',\n",
              " './data/with_mask/202-with-mask.jpg',\n",
              " './data/with_mask/augmented_image_210.jpg',\n",
              " './data/with_mask/augmented_image_86.jpg',\n",
              " './data/with_mask/304-with-mask.jpg',\n",
              " './data/with_mask/augmented_image_268.jpg',\n",
              " './data/with_mask/407-with-mask.jpg',\n",
              " './data/with_mask/364-with-mask.jpg',\n",
              " './data/with_mask/240-with-mask.jpg',\n",
              " './data/with_mask/153-with-mask.jpg',\n",
              " './data/with_mask/299-with-mask.jpg',\n",
              " './data/with_mask/30-with-mask.jpg',\n",
              " './data/with_mask/augmented_image_265.jpg',\n",
              " './data/with_mask/212-with-mask.jpg',\n",
              " './data/with_mask/augmented_image_15.jpg',\n",
              " './data/with_mask/augmented_image_23.jpg',\n",
              " './data/with_mask/132-with-mask.jpg',\n",
              " './data/with_mask/31-with-mask.jpg',\n",
              " './data/with_mask/103-with-mask.jpg',\n",
              " './data/with_mask/augmented_image_228.jpg',\n",
              " './data/with_mask/augmented_image_203.jpg',\n",
              " './data/with_mask/augmented_image_178.jpg',\n",
              " './data/with_mask/40-with-mask.jpg',\n",
              " './data/with_mask/augmented_image_76.jpg',\n",
              " './data/with_mask/augmented_image_284.jpg',\n",
              " './data/with_mask/475-with-mask.jpg',\n",
              " './data/with_mask/augmented_image_238.jpg',\n",
              " './data/with_mask/237-with-mask.jpg',\n",
              " './data/with_mask/augmented_image_288.jpg',\n",
              " './data/with_mask/augmented_image_230.jpg',\n",
              " './data/with_mask/362-with-mask.jpg',\n",
              " './data/with_mask/254-with-mask.jpg',\n",
              " './data/with_mask/11-with-mask.jpg',\n",
              " './data/with_mask/augmented_image_27.jpg',\n",
              " './data/with_mask/augmented_image_212.jpg',\n",
              " './data/with_mask/augmented_image_160.jpg',\n",
              " './data/with_mask/augmented_image_133.jpg',\n",
              " './data/with_mask/88-with-mask.jpg',\n",
              " './data/with_mask/384-with-mask.jpg',\n",
              " './data/with_mask/augmented_image_132.jpg',\n",
              " './data/with_mask/396-with-mask.jpg',\n",
              " './data/with_mask/augmented_image_181.jpg',\n",
              " './data/with_mask/457-with-mask.jpg',\n",
              " './data/with_mask/111-with-mask.jpg',\n",
              " './data/with_mask/386-with-mask.jpg',\n",
              " './data/with_mask/augmented_image_43.jpg',\n",
              " './data/with_mask/185-with-mask.jpg',\n",
              " './data/with_mask/256-with-mask.jpg',\n",
              " './data/with_mask/155-with-mask.jpg',\n",
              " './data/with_mask/53-with-mask.jpg',\n",
              " './data/with_mask/0-with-mask.jpg',\n",
              " './data/with_mask/augmented_image_62.jpg',\n",
              " './data/with_mask/augmented_image_0.jpg',\n",
              " './data/with_mask/augmented_image_214.jpg',\n",
              " './data/with_mask/82-with-mask.jpg',\n",
              " './data/with_mask/106-with-mask.jpg',\n",
              " './data/with_mask/8-with-mask.jpg',\n",
              " './data/with_mask/353-with-mask.jpg',\n",
              " './data/with_mask/augmented_image_31.jpg',\n",
              " './data/with_mask/augmented_image_245.jpg',\n",
              " './data/with_mask/52-with-mask.jpg',\n",
              " './data/with_mask/augmented_image_65.jpg',\n",
              " './data/with_mask/augmented_image_150.jpg',\n",
              " './data/with_mask/215-with-mask.jpg',\n",
              " './data/with_mask/augmented_image_146.jpg',\n",
              " './data/with_mask/augmented_image_314.jpg',\n",
              " './data/with_mask/augmented_image_20.jpg',\n",
              " './data/with_mask/175-with-mask.jpg',\n",
              " './data/with_mask/138-with-mask.jpg',\n",
              " './data/with_mask/prajna.jpg',\n",
              " './data/with_mask/453-with-mask.jpg',\n",
              " './data/with_mask/422-with-mask.jpg',\n",
              " './data/with_mask/augmented_image_266.jpg',\n",
              " './data/with_mask/51-with-mask.jpg',\n",
              " './data/with_mask/434-with-mask.jpg',\n",
              " './data/with_mask/439-with-mask.jpg',\n",
              " './data/with_mask/331-with-mask.jpg',\n",
              " './data/with_mask/116-with-mask.jpg',\n",
              " './data/with_mask/451-with-mask.jpg',\n",
              " './data/with_mask/101-with-mask.jpg',\n",
              " './data/with_mask/325-with-mask.jpg',\n",
              " './data/with_mask/121-with-mask.jpg',\n",
              " './data/with_mask/21-with-mask.jpg',\n",
              " './data/with_mask/408-with-mask.jpg',\n",
              " './data/with_mask/141-with-mask.jpg',\n",
              " './data/with_mask/augmented_image_196.jpg',\n",
              " './data/with_mask/421-with-mask.jpg',\n",
              " './data/with_mask/augmented_image_85.jpg',\n",
              " './data/with_mask/augmented_image_100.jpg',\n",
              " './data/with_mask/augmented_image_316.jpg',\n",
              " './data/with_mask/448-with-mask.jpg',\n",
              " './data/with_mask/446-with-mask.jpg',\n",
              " './data/with_mask/466-with-mask.jpg',\n",
              " './data/with_mask/augmented_image_167.jpg',\n",
              " './data/with_mask/267-with-mask.jpg',\n",
              " './data/with_mask/168-with-mask.jpg',\n",
              " './data/with_mask/221-with-mask.jpg',\n",
              " './data/with_mask/201-with-mask.jpg',\n",
              " './data/with_mask/316-with-mask.jpg',\n",
              " './data/with_mask/augmented_image_135.jpg',\n",
              " './data/with_mask/244-with-mask.jpg',\n",
              " './data/with_mask/augmented_image_88.jpg',\n",
              " './data/with_mask/334-with-mask.jpg',\n",
              " './data/with_mask/343-with-mask.jpg',\n",
              " './data/with_mask/332-with-mask.jpg',\n",
              " './data/with_mask/augmented_image_221.jpg',\n",
              " './data/with_mask/125-with-mask.jpg',\n",
              " './data/with_mask/169-with-mask.jpg',\n",
              " './data/with_mask/augmented_image_28.jpg',\n",
              " './data/with_mask/355-with-mask.jpg',\n",
              " './data/with_mask/459-with-mask.jpg',\n",
              " './data/with_mask/317-with-mask.jpg',\n",
              " './data/with_mask/augmented_image_187.jpg',\n",
              " './data/with_mask/284-with-mask.jpg',\n",
              " './data/with_mask/2-with-mask.jpg',\n",
              " './data/with_mask/augmented_image_24.jpg',\n",
              " './data/with_mask/454-with-mask.jpg',\n",
              " './data/with_mask/297-with-mask.jpg',\n",
              " './data/with_mask/435-with-mask.jpg',\n",
              " './data/with_mask/augmented_image_247.jpg',\n",
              " './data/with_mask/augmented_image_130.jpg',\n",
              " './data/with_mask/augmented_image_190.jpg',\n",
              " './data/with_mask/311-with-mask.jpg',\n",
              " './data/with_mask/augmented_image_243.jpg',\n",
              " './data/with_mask/augmented_image_237.jpg',\n",
              " './data/with_mask/330-with-mask.jpg',\n",
              " './data/with_mask/129-with-mask.jpg',\n",
              " './data/with_mask/114-with-mask.jpg',\n",
              " './data/with_mask/107-with-mask.jpg',\n",
              " './data/with_mask/420-with-mask.jpg',\n",
              " './data/with_mask/86-with-mask.jpg',\n",
              " './data/with_mask/429-with-mask.jpg',\n",
              " './data/with_mask/augmented_image_308.jpg',\n",
              " './data/with_mask/augmented_image_1.jpg',\n",
              " './data/with_mask/augmented_image_277.jpg',\n",
              " './data/with_mask/augmented_image_10.jpg',\n",
              " './data/with_mask/385-with-mask.jpg',\n",
              " './data/with_mask/augmented_image_116.jpg',\n",
              " './data/with_mask/298-with-mask.jpg',\n",
              " './data/with_mask/458-with-mask.jpg',\n",
              " './data/with_mask/augmented_image_117.jpg',\n",
              " './data/with_mask/135-with-mask.jpg',\n",
              " './data/with_mask/305-with-mask.jpg',\n",
              " './data/with_mask/227-with-mask.jpg',\n",
              " './data/with_mask/augmented_image_33.jpg',\n",
              " './data/with_mask/augmented_image_35.jpg',\n",
              " './data/with_mask/augmented_image_235.jpg',\n",
              " './data/with_mask/augmented_image_193.jpg',\n",
              " './data/with_mask/379-with-mask.jpg',\n",
              " './data/with_mask/augmented_image_75.jpg',\n",
              " './data/with_mask/augmented_image_246.jpg',\n",
              " './data/with_mask/36-with-mask.jpg',\n",
              " './data/with_mask/160-with-mask.jpg',\n",
              " './data/with_mask/augmented_image_170.jpg',\n",
              " './data/with_mask/152-with-mask.jpg',\n",
              " './data/with_mask/7-with-mask.jpg',\n",
              " './data/with_mask/augmented_image_201.jpg',\n",
              " './data/with_mask/177-with-mask.jpg',\n",
              " './data/with_mask/augmented_image_129.jpg',\n",
              " './data/with_mask/167-with-mask.jpg',\n",
              " './data/with_mask/238-with-mask.jpg',\n",
              " './data/with_mask/pra3.jpg',\n",
              " './data/with_mask/214-with-mask.jpg',\n",
              " './data/with_mask/3-with-mask.jpg',\n",
              " './data/with_mask/augmented_image_125.jpg',\n",
              " './data/with_mask/270-with-mask.jpg',\n",
              " './data/with_mask/augmented_image_273.jpg',\n",
              " './data/with_mask/augmented_image_153.jpg',\n",
              " './data/with_mask/318-with-mask.jpg',\n",
              " './data/with_mask/augmented_image_136.jpg',\n",
              " './data/with_mask/463-with-mask.jpg',\n",
              " './data/with_mask/471-with-mask.jpg',\n",
              " './data/with_mask/357-with-mask.jpg',\n",
              " './data/with_mask/49-with-mask.jpg',\n",
              " './data/with_mask/augmented_image_12.jpg',\n",
              " './data/with_mask/18-with-mask.jpg',\n",
              " './data/with_mask/467-with-mask.jpg',\n",
              " './data/with_mask/368-with-mask.jpg',\n",
              " './data/with_mask/augmented_image_41.jpg',\n",
              " './data/with_mask/augmented_image_182.jpg',\n",
              " './data/with_mask/204-with-mask.jpg',\n",
              " './data/with_mask/pra1.jpg',\n",
              " './data/with_mask/augmented_image_8.jpg',\n",
              " './data/with_mask/augmented_image_281.jpg',\n",
              " './data/with_mask/195-with-mask.jpg',\n",
              " './data/with_mask/75-with-mask.jpg',\n",
              " './data/with_mask/452-with-mask.jpg',\n",
              " './data/with_mask/326-with-mask.jpg',\n",
              " './data/with_mask/460-with-mask.jpg',\n",
              " ...]"
            ]
          },
          "metadata": {
            "tags": []
          },
          "execution_count": 12
        }
      ]
    },
    {
      "cell_type": "code",
      "metadata": {
        "id": "aAdfoiRavHyN",
        "colab_type": "code",
        "colab": {}
      },
      "source": [
        "import cv2\n",
        "for i in paths_list:\n",
        "  label = i.split('/')[-2]\n",
        "  image = cv2.imread(i)\n",
        "  image = cv2.cvtColor(image,cv2.COLOR_BGR2RGB)\n",
        "  image = cv2.resize(image,(224,224))\n",
        "  data.append(image)\n",
        "  labels.append(label)"
      ],
      "execution_count": 0,
      "outputs": []
    },
    {
      "cell_type": "code",
      "metadata": {
        "id": "7wEPLXWZv6Qn",
        "colab_type": "code",
        "colab": {
          "base_uri": "https://localhost:8080/",
          "height": 286
        },
        "outputId": "c255ac4e-be1b-46c9-f721-d63ce7e35fc8"
      },
      "source": [
        "test_image = data[10]\n",
        "plt.imshow(test_image)"
      ],
      "execution_count": 15,
      "outputs": [
        {
          "output_type": "execute_result",
          "data": {
            "text/plain": [
              "<matplotlib.image.AxesImage at 0x7f79a41671d0>"
            ]
          },
          "metadata": {
            "tags": []
          },
          "execution_count": 15
        },
        {
          "output_type": "display_data",
          "data": {
            "image/png": "[encoded data removed]",
            "text/plain": [
              "<Figure size 432x288 with 1 Axes>"
            ]
          },
          "metadata": {
            "tags": [],
            "needs_background": "light"
          }
        }
      ]
    },
    {
      "cell_type": "code",
      "metadata": {
        "id": "e_bfGaqgwcpc",
        "colab_type": "code",
        "colab": {
          "base_uri": "https://localhost:8080/",
          "height": 34
        },
        "outputId": "aa4bf026-5ea6-473b-e329-4aefc6e5d6dc"
      },
      "source": [
        "len(data)"
      ],
      "execution_count": 16,
      "outputs": [
        {
          "output_type": "execute_result",
          "data": {
            "text/plain": [
              "1376"
            ]
          },
          "metadata": {
            "tags": []
          },
          "execution_count": 16
        }
      ]
    },
    {
      "cell_type": "code",
      "metadata": {
        "id": "CIqVNj_PwgHH",
        "colab_type": "code",
        "colab": {
          "base_uri": "https://localhost:8080/",
          "height": 34
        },
        "outputId": "dcd66688-a99b-493d-d877-d105a0e891a7"
      },
      "source": [
        "len(labels)"
      ],
      "execution_count": 17,
      "outputs": [
        {
          "output_type": "execute_result",
          "data": {
            "text/plain": [
              "1376"
            ]
          },
          "metadata": {
            "tags": []
          },
          "execution_count": 17
        }
      ]
    },
    {
      "cell_type": "code",
      "metadata": {
        "id": "I6iTSxsywh5A",
        "colab_type": "code",
        "colab": {}
      },
      "source": [
        "data = np.array(data)/255\n",
        "labels = np.array(labels)"
      ],
      "execution_count": 0,
      "outputs": []
    },
    {
      "cell_type": "code",
      "metadata": {
        "id": "A5L0tF9awot2",
        "colab_type": "code",
        "colab": {}
      },
      "source": [
        "lb = LabelBinarizer()\n",
        "labels = lb.fit_transform(labels)\n",
        "labels = to_categorical(labels)\n"
      ],
      "execution_count": 0,
      "outputs": []
    },
    {
      "cell_type": "code",
      "metadata": {
        "id": "5GpNp7Caw1t1",
        "colab_type": "code",
        "colab": {}
      },
      "source": [
        "mygen = ImageDataGenerator(rotation_range=15,\n",
        "                           fill_mode=\"nearest\",\n",
        "                          )"
      ],
      "execution_count": 0,
      "outputs": []
    },
    {
      "cell_type": "code",
      "metadata": {
        "id": "OsTfLwMkw_-w",
        "colab_type": "code",
        "colab": {
          "base_uri": "https://localhost:8080/",
          "height": 34
        },
        "outputId": "4bfba45a-7d7c-4bea-d339-11b1f8248fc0"
      },
      "source": [
        "mygen"
      ],
      "execution_count": 21,
      "outputs": [
        {
          "output_type": "execute_result",
          "data": {
            "text/plain": [
              "<tensorflow.python.keras.preprocessing.image.ImageDataGenerator at 0x7f79a409d390>"
            ]
          },
          "metadata": {
            "tags": []
          },
          "execution_count": 21
        }
      ]
    },
    {
      "cell_type": "code",
      "metadata": {
        "id": "K20i2JE_xA3R",
        "colab_type": "code",
        "colab": {}
      },
      "source": [
        "int_lr = 1e-3\n",
        "epoch = 25\n",
        "bs= 32"
      ],
      "execution_count": 0,
      "outputs": []
    },
    {
      "cell_type": "code",
      "metadata": {
        "id": "vqHW1QLGxGLU",
        "colab_type": "code",
        "colab": {}
      },
      "source": [
        "(trainX, testX, trainY, testY) = train_test_split(data, labels,\n",
        "\ttest_size=0.20, stratify=labels, random_state=42)"
      ],
      "execution_count": 0,
      "outputs": []
    },
    {
      "cell_type": "code",
      "metadata": {
        "id": "F9TyvFIDxUOz",
        "colab_type": "code",
        "colab": {
          "base_uri": "https://localhost:8080/",
          "height": 34
        },
        "outputId": "df1eb3ef-ecf3-4757-ace1-f92684c7288d"
      },
      "source": [
        "base = MobileNetV2(weights=\"imagenet\", include_top=False, input_tensor=Input(shape=(224, 224, 3)))\n",
        "head = base.output\n",
        "head = MaxPooling2D(pool_size=(7, 7))(head)\n",
        "head = Flatten(name=\"flatten\")(head)\n",
        "head = Dense(128, activation=\"relu\")(head)\n",
        "head = Dense(64, activation=\"relu\")(head)\n",
        "head = Dropout(0.5)(head)\n",
        "head = Dense(2, activation=\"softmax\")(head)"
      ],
      "execution_count": 25,
      "outputs": [
        {
          "output_type": "stream",
          "text": [
            "WARNING:tensorflow:`input_shape` is undefined or non-square, or `rows` is not in [96, 128, 160, 192, 224]. Weights for input shape (224, 224) will be loaded as the default.\n"
          ],
          "name": "stdout"
        }
      ]
    },
    {
      "cell_type": "code",
      "metadata": {
        "id": "-P7AR4Cqx5Gi",
        "colab_type": "code",
        "colab": {
          "base_uri": "https://localhost:8080/",
          "height": 1000
        },
        "outputId": "b2f60dc1-9c7c-4a1f-f43d-58be22e04d3f"
      },
      "source": [
        "from tensorflow.keras.models import Model\n",
        "model = Model(inputs = base.input, outputs = head)\n",
        "model.summary()"
      ],
      "execution_count": 27,
      "outputs": [
        {
          "output_type": "stream",
          "text": [
            "Model: \"model\"\n",
            "__________________________________________________________________________________________________\n",
            "Layer (type)                    Output Shape         Param #     Connected to                     \n",
            "==================================================================================================\n",
            "input_2 (InputLayer)            [(None, 224, 224, 3) 0                                            \n",
            "__________________________________________________________________________________________________\n",
            "Conv1_pad (ZeroPadding2D)       (None, 225, 225, 3)  0           input_2[0][0]                    \n",
            "__________________________________________________________________________________________________\n",
            "Conv1 (Conv2D)                  (None, 112, 112, 32) 864         Conv1_pad[0][0]                  \n",
            "__________________________________________________________________________________________________\n",
            "bn_Conv1 (BatchNormalization)   (None, 112, 112, 32) 128         Conv1[0][0]                      \n",
            "__________________________________________________________________________________________________\n",
            "Conv1_relu (ReLU)               (None, 112, 112, 32) 0           bn_Conv1[0][0]                   \n",
            "__________________________________________________________________________________________________\n",
            "expanded_conv_depthwise (Depthw (None, 112, 112, 32) 288         Conv1_relu[0][0]                 \n",
            "__________________________________________________________________________________________________\n",
            "expanded_conv_depthwise_BN (Bat (None, 112, 112, 32) 128         expanded_conv_depthwise[0][0]    \n",
            "__________________________________________________________________________________________________\n",
            "expanded_conv_depthwise_relu (R (None, 112, 112, 32) 0           expanded_conv_depthwise_BN[0][0] \n",
            "__________________________________________________________________________________________________\n",
            "expanded_conv_project (Conv2D)  (None, 112, 112, 16) 512         expanded_conv_depthwise_relu[0][0\n",
            "__________________________________________________________________________________________________\n",
            "expanded_conv_project_BN (Batch (None, 112, 112, 16) 64          expanded_conv_project[0][0]      \n",
            "__________________________________________________________________________________________________\n",
            "block_1_expand (Conv2D)         (None, 112, 112, 96) 1536        expanded_conv_project_BN[0][0]   \n",
            "__________________________________________________________________________________________________\n",
            "block_1_expand_BN (BatchNormali (None, 112, 112, 96) 384         block_1_expand[0][0]             \n",
            "__________________________________________________________________________________________________\n",
            "block_1_expand_relu (ReLU)      (None, 112, 112, 96) 0           block_1_expand_BN[0][0]          \n",
            "__________________________________________________________________________________________________\n",
            "block_1_pad (ZeroPadding2D)     (None, 113, 113, 96) 0           block_1_expand_relu[0][0]        \n",
            "__________________________________________________________________________________________________\n",
            "block_1_depthwise (DepthwiseCon (None, 56, 56, 96)   864         block_1_pad[0][0]                \n",
            "__________________________________________________________________________________________________\n",
            "block_1_depthwise_BN (BatchNorm (None, 56, 56, 96)   384         block_1_depthwise[0][0]          \n",
            "__________________________________________________________________________________________________\n",
            "block_1_depthwise_relu (ReLU)   (None, 56, 56, 96)   0           block_1_depthwise_BN[0][0]       \n",
            "__________________________________________________________________________________________________\n",
            "block_1_project (Conv2D)        (None, 56, 56, 24)   2304        block_1_depthwise_relu[0][0]     \n",
            "__________________________________________________________________________________________________\n",
            "block_1_project_BN (BatchNormal (None, 56, 56, 24)   96          block_1_project[0][0]            \n",
            "__________________________________________________________________________________________________\n",
            "block_2_expand (Conv2D)         (None, 56, 56, 144)  3456        block_1_project_BN[0][0]         \n",
            "__________________________________________________________________________________________________\n",
            "block_2_expand_BN (BatchNormali (None, 56, 56, 144)  576         block_2_expand[0][0]             \n",
            "__________________________________________________________________________________________________\n",
            "block_2_expand_relu (ReLU)      (None, 56, 56, 144)  0           block_2_expand_BN[0][0]          \n",
            "__________________________________________________________________________________________________\n",
            "block_2_depthwise (DepthwiseCon (None, 56, 56, 144)  1296        block_2_expand_relu[0][0]        \n",
            "__________________________________________________________________________________________________\n",
            "block_2_depthwise_BN (BatchNorm (None, 56, 56, 144)  576         block_2_depthwise[0][0]          \n",
            "__________________________________________________________________________________________________\n",
            "block_2_depthwise_relu (ReLU)   (None, 56, 56, 144)  0           block_2_depthwise_BN[0][0]       \n",
            "__________________________________________________________________________________________________\n",
            "block_2_project (Conv2D)        (None, 56, 56, 24)   3456        block_2_depthwise_relu[0][0]     \n",
            "__________________________________________________________________________________________________\n",
            "block_2_project_BN (BatchNormal (None, 56, 56, 24)   96          block_2_project[0][0]            \n",
            "__________________________________________________________________________________________________\n",
            "block_2_add (Add)               (None, 56, 56, 24)   0           block_1_project_BN[0][0]         \n",
            "                                                                 block_2_project_BN[0][0]         \n",
            "__________________________________________________________________________________________________\n",
            "block_3_expand (Conv2D)         (None, 56, 56, 144)  3456        block_2_add[0][0]                \n",
            "__________________________________________________________________________________________________\n",
            "block_3_expand_BN (BatchNormali (None, 56, 56, 144)  576         block_3_expand[0][0]             \n",
            "__________________________________________________________________________________________________\n",
            "block_3_expand_relu (ReLU)      (None, 56, 56, 144)  0           block_3_expand_BN[0][0]          \n",
            "__________________________________________________________________________________________________\n",
            "block_3_pad (ZeroPadding2D)     (None, 57, 57, 144)  0           block_3_expand_relu[0][0]        \n",
            "__________________________________________________________________________________________________\n",
            "block_3_depthwise (DepthwiseCon (None, 28, 28, 144)  1296        block_3_pad[0][0]                \n",
            "__________________________________________________________________________________________________\n",
            "block_3_depthwise_BN (BatchNorm (None, 28, 28, 144)  576         block_3_depthwise[0][0]          \n",
            "__________________________________________________________________________________________________\n",
            "block_3_depthwise_relu (ReLU)   (None, 28, 28, 144)  0           block_3_depthwise_BN[0][0]       \n",
            "__________________________________________________________________________________________________\n",
            "block_3_project (Conv2D)        (None, 28, 28, 32)   4608        block_3_depthwise_relu[0][0]     \n",
            "__________________________________________________________________________________________________\n",
            "block_3_project_BN (BatchNormal (None, 28, 28, 32)   128         block_3_project[0][0]            \n",
            "__________________________________________________________________________________________________\n",
            "block_4_expand (Conv2D)         (None, 28, 28, 192)  6144        block_3_project_BN[0][0]         \n",
            "__________________________________________________________________________________________________\n",
            "block_4_expand_BN (BatchNormali (None, 28, 28, 192)  768         block_4_expand[0][0]             \n",
            "__________________________________________________________________________________________________\n",
            "block_4_expand_relu (ReLU)      (None, 28, 28, 192)  0           block_4_expand_BN[0][0]          \n",
            "__________________________________________________________________________________________________\n",
            "block_4_depthwise (DepthwiseCon (None, 28, 28, 192)  1728        block_4_expand_relu[0][0]        \n",
            "__________________________________________________________________________________________________\n",
            "block_4_depthwise_BN (BatchNorm (None, 28, 28, 192)  768         block_4_depthwise[0][0]          \n",
            "__________________________________________________________________________________________________\n",
            "block_4_depthwise_relu (ReLU)   (None, 28, 28, 192)  0           block_4_depthwise_BN[0][0]       \n",
            "__________________________________________________________________________________________________\n",
            "block_4_project (Conv2D)        (None, 28, 28, 32)   6144        block_4_depthwise_relu[0][0]     \n",
            "__________________________________________________________________________________________________\n",
            "block_4_project_BN (BatchNormal (None, 28, 28, 32)   128         block_4_project[0][0]            \n",
            "__________________________________________________________________________________________________\n",
            "block_4_add (Add)               (None, 28, 28, 32)   0           block_3_project_BN[0][0]         \n",
            "                                                                 block_4_project_BN[0][0]         \n",
            "__________________________________________________________________________________________________\n",
            "block_5_expand (Conv2D)         (None, 28, 28, 192)  6144        block_4_add[0][0]                \n",
            "__________________________________________________________________________________________________\n",
            "block_5_expand_BN (BatchNormali (None, 28, 28, 192)  768         block_5_expand[0][0]             \n",
            "__________________________________________________________________________________________________\n",
            "block_5_expand_relu (ReLU)      (None, 28, 28, 192)  0           block_5_expand_BN[0][0]          \n",
            "__________________________________________________________________________________________________\n",
            "block_5_depthwise (DepthwiseCon (None, 28, 28, 192)  1728        block_5_expand_relu[0][0]        \n",
            "__________________________________________________________________________________________________\n",
            "block_5_depthwise_BN (BatchNorm (None, 28, 28, 192)  768         block_5_depthwise[0][0]          \n",
            "__________________________________________________________________________________________________\n",
            "block_5_depthwise_relu (ReLU)   (None, 28, 28, 192)  0           block_5_depthwise_BN[0][0]       \n",
            "__________________________________________________________________________________________________\n",
            "block_5_project (Conv2D)        (None, 28, 28, 32)   6144        block_5_depthwise_relu[0][0]     \n",
            "__________________________________________________________________________________________________\n",
            "block_5_project_BN (BatchNormal (None, 28, 28, 32)   128         block_5_project[0][0]            \n",
            "__________________________________________________________________________________________________\n",
            "block_5_add (Add)               (None, 28, 28, 32)   0           block_4_add[0][0]                \n",
            "                                                                 block_5_project_BN[0][0]         \n",
            "__________________________________________________________________________________________________\n",
            "block_6_expand (Conv2D)         (None, 28, 28, 192)  6144        block_5_add[0][0]                \n",
            "__________________________________________________________________________________________________\n",
            "block_6_expand_BN (BatchNormali (None, 28, 28, 192)  768         block_6_expand[0][0]             \n",
            "__________________________________________________________________________________________________\n",
            "block_6_expand_relu (ReLU)      (None, 28, 28, 192)  0           block_6_expand_BN[0][0]          \n",
            "__________________________________________________________________________________________________\n",
            "block_6_pad (ZeroPadding2D)     (None, 29, 29, 192)  0           block_6_expand_relu[0][0]        \n",
            "__________________________________________________________________________________________________\n",
            "block_6_depthwise (DepthwiseCon (None, 14, 14, 192)  1728        block_6_pad[0][0]                \n",
            "__________________________________________________________________________________________________\n",
            "block_6_depthwise_BN (BatchNorm (None, 14, 14, 192)  768         block_6_depthwise[0][0]          \n",
            "__________________________________________________________________________________________________\n",
            "block_6_depthwise_relu (ReLU)   (None, 14, 14, 192)  0           block_6_depthwise_BN[0][0]       \n",
            "__________________________________________________________________________________________________\n",
            "block_6_project (Conv2D)        (None, 14, 14, 64)   12288       block_6_depthwise_relu[0][0]     \n",
            "__________________________________________________________________________________________________\n",
            "block_6_project_BN (BatchNormal (None, 14, 14, 64)   256         block_6_project[0][0]            \n",
            "__________________________________________________________________________________________________\n",
            "block_7_expand (Conv2D)         (None, 14, 14, 384)  24576       block_6_project_BN[0][0]         \n",
            "__________________________________________________________________________________________________\n",
            "block_7_expand_BN (BatchNormali (None, 14, 14, 384)  1536        block_7_expand[0][0]             \n",
            "__________________________________________________________________________________________________\n",
            "block_7_expand_relu (ReLU)      (None, 14, 14, 384)  0           block_7_expand_BN[0][0]          \n",
            "__________________________________________________________________________________________________\n",
            "block_7_depthwise (DepthwiseCon (None, 14, 14, 384)  3456        block_7_expand_relu[0][0]        \n",
            "__________________________________________________________________________________________________\n",
            "block_7_depthwise_BN (BatchNorm (None, 14, 14, 384)  1536        block_7_depthwise[0][0]          \n",
            "__________________________________________________________________________________________________\n",
            "block_7_depthwise_relu (ReLU)   (None, 14, 14, 384)  0           block_7_depthwise_BN[0][0]       \n",
            "__________________________________________________________________________________________________\n",
            "block_7_project (Conv2D)        (None, 14, 14, 64)   24576       block_7_depthwise_relu[0][0]     \n",
            "__________________________________________________________________________________________________\n",
            "block_7_project_BN (BatchNormal (None, 14, 14, 64)   256         block_7_project[0][0]            \n",
            "__________________________________________________________________________________________________\n",
            "block_7_add (Add)               (None, 14, 14, 64)   0           block_6_project_BN[0][0]         \n",
            "                                                                 block_7_project_BN[0][0]         \n",
            "__________________________________________________________________________________________________\n",
            "block_8_expand (Conv2D)         (None, 14, 14, 384)  24576       block_7_add[0][0]                \n",
            "__________________________________________________________________________________________________\n",
            "block_8_expand_BN (BatchNormali (None, 14, 14, 384)  1536        block_8_expand[0][0]             \n",
            "__________________________________________________________________________________________________\n",
            "block_8_expand_relu (ReLU)      (None, 14, 14, 384)  0           block_8_expand_BN[0][0]          \n",
            "__________________________________________________________________________________________________\n",
            "block_8_depthwise (DepthwiseCon (None, 14, 14, 384)  3456        block_8_expand_relu[0][0]        \n",
            "__________________________________________________________________________________________________\n",
            "block_8_depthwise_BN (BatchNorm (None, 14, 14, 384)  1536        block_8_depthwise[0][0]          \n",
            "__________________________________________________________________________________________________\n",
            "block_8_depthwise_relu (ReLU)   (None, 14, 14, 384)  0           block_8_depthwise_BN[0][0]       \n",
            "__________________________________________________________________________________________________\n",
            "block_8_project (Conv2D)        (None, 14, 14, 64)   24576       block_8_depthwise_relu[0][0]     \n",
            "__________________________________________________________________________________________________\n",
            "block_8_project_BN (BatchNormal (None, 14, 14, 64)   256         block_8_project[0][0]            \n",
            "__________________________________________________________________________________________________\n",
            "block_8_add (Add)               (None, 14, 14, 64)   0           block_7_add[0][0]                \n",
            "                                                                 block_8_project_BN[0][0]         \n",
            "__________________________________________________________________________________________________\n",
            "block_9_expand (Conv2D)         (None, 14, 14, 384)  24576       block_8_add[0][0]                \n",
            "__________________________________________________________________________________________________\n",
            "block_9_expand_BN (BatchNormali (None, 14, 14, 384)  1536        block_9_expand[0][0]             \n",
            "__________________________________________________________________________________________________\n",
            "block_9_expand_relu (ReLU)      (None, 14, 14, 384)  0           block_9_expand_BN[0][0]          \n",
            "__________________________________________________________________________________________________\n",
            "block_9_depthwise (DepthwiseCon (None, 14, 14, 384)  3456        block_9_expand_relu[0][0]        \n",
            "__________________________________________________________________________________________________\n",
            "block_9_depthwise_BN (BatchNorm (None, 14, 14, 384)  1536        block_9_depthwise[0][0]          \n",
            "__________________________________________________________________________________________________\n",
            "block_9_depthwise_relu (ReLU)   (None, 14, 14, 384)  0           block_9_depthwise_BN[0][0]       \n",
            "__________________________________________________________________________________________________\n",
            "block_9_project (Conv2D)        (None, 14, 14, 64)   24576       block_9_depthwise_relu[0][0]     \n",
            "__________________________________________________________________________________________________\n",
            "block_9_project_BN (BatchNormal (None, 14, 14, 64)   256         block_9_project[0][0]            \n",
            "__________________________________________________________________________________________________\n",
            "block_9_add (Add)               (None, 14, 14, 64)   0           block_8_add[0][0]                \n",
            "                                                                 block_9_project_BN[0][0]         \n",
            "__________________________________________________________________________________________________\n",
            "block_10_expand (Conv2D)        (None, 14, 14, 384)  24576       block_9_add[0][0]                \n",
            "__________________________________________________________________________________________________\n",
            "block_10_expand_BN (BatchNormal (None, 14, 14, 384)  1536        block_10_expand[0][0]            \n",
            "__________________________________________________________________________________________________\n",
            "block_10_expand_relu (ReLU)     (None, 14, 14, 384)  0           block_10_expand_BN[0][0]         \n",
            "__________________________________________________________________________________________________\n",
            "block_10_depthwise (DepthwiseCo (None, 14, 14, 384)  3456        block_10_expand_relu[0][0]       \n",
            "__________________________________________________________________________________________________\n",
            "block_10_depthwise_BN (BatchNor (None, 14, 14, 384)  1536        block_10_depthwise[0][0]         \n",
            "__________________________________________________________________________________________________\n",
            "block_10_depthwise_relu (ReLU)  (None, 14, 14, 384)  0           block_10_depthwise_BN[0][0]      \n",
            "__________________________________________________________________________________________________\n",
            "block_10_project (Conv2D)       (None, 14, 14, 96)   36864       block_10_depthwise_relu[0][0]    \n",
            "__________________________________________________________________________________________________\n",
            "block_10_project_BN (BatchNorma (None, 14, 14, 96)   384         block_10_project[0][0]           \n",
            "__________________________________________________________________________________________________\n",
            "block_11_expand (Conv2D)        (None, 14, 14, 576)  55296       block_10_project_BN[0][0]        \n",
            "__________________________________________________________________________________________________\n",
            "block_11_expand_BN (BatchNormal (None, 14, 14, 576)  2304        block_11_expand[0][0]            \n",
            "__________________________________________________________________________________________________\n",
            "block_11_expand_relu (ReLU)     (None, 14, 14, 576)  0           block_11_expand_BN[0][0]         \n",
            "__________________________________________________________________________________________________\n",
            "block_11_depthwise (DepthwiseCo (None, 14, 14, 576)  5184        block_11_expand_relu[0][0]       \n",
            "__________________________________________________________________________________________________\n",
            "block_11_depthwise_BN (BatchNor (None, 14, 14, 576)  2304        block_11_depthwise[0][0]         \n",
            "__________________________________________________________________________________________________\n",
            "block_11_depthwise_relu (ReLU)  (None, 14, 14, 576)  0           block_11_depthwise_BN[0][0]      \n",
            "__________________________________________________________________________________________________\n",
            "block_11_project (Conv2D)       (None, 14, 14, 96)   55296       block_11_depthwise_relu[0][0]    \n",
            "__________________________________________________________________________________________________\n",
            "block_11_project_BN (BatchNorma (None, 14, 14, 96)   384         block_11_project[0][0]           \n",
            "__________________________________________________________________________________________________\n",
            "block_11_add (Add)              (None, 14, 14, 96)   0           block_10_project_BN[0][0]        \n",
            "                                                                 block_11_project_BN[0][0]        \n",
            "__________________________________________________________________________________________________\n",
            "block_12_expand (Conv2D)        (None, 14, 14, 576)  55296       block_11_add[0][0]               \n",
            "__________________________________________________________________________________________________\n",
            "block_12_expand_BN (BatchNormal (None, 14, 14, 576)  2304        block_12_expand[0][0]            \n",
            "__________________________________________________________________________________________________\n",
            "block_12_expand_relu (ReLU)     (None, 14, 14, 576)  0           block_12_expand_BN[0][0]         \n",
            "__________________________________________________________________________________________________\n",
            "block_12_depthwise (DepthwiseCo (None, 14, 14, 576)  5184        block_12_expand_relu[0][0]       \n",
            "__________________________________________________________________________________________________\n",
            "block_12_depthwise_BN (BatchNor (None, 14, 14, 576)  2304        block_12_depthwise[0][0]         \n",
            "__________________________________________________________________________________________________\n",
            "block_12_depthwise_relu (ReLU)  (None, 14, 14, 576)  0           block_12_depthwise_BN[0][0]      \n",
            "__________________________________________________________________________________________________\n",
            "block_12_project (Conv2D)       (None, 14, 14, 96)   55296       block_12_depthwise_relu[0][0]    \n",
            "__________________________________________________________________________________________________\n",
            "block_12_project_BN (BatchNorma (None, 14, 14, 96)   384         block_12_project[0][0]           \n",
            "__________________________________________________________________________________________________\n",
            "block_12_add (Add)              (None, 14, 14, 96)   0           block_11_add[0][0]               \n",
            "                                                                 block_12_project_BN[0][0]        \n",
            "__________________________________________________________________________________________________\n",
            "block_13_expand (Conv2D)        (None, 14, 14, 576)  55296       block_12_add[0][0]               \n",
            "__________________________________________________________________________________________________\n",
            "block_13_expand_BN (BatchNormal (None, 14, 14, 576)  2304        block_13_expand[0][0]            \n",
            "__________________________________________________________________________________________________\n",
            "block_13_expand_relu (ReLU)     (None, 14, 14, 576)  0           block_13_expand_BN[0][0]         \n",
            "__________________________________________________________________________________________________\n",
            "block_13_pad (ZeroPadding2D)    (None, 15, 15, 576)  0           block_13_expand_relu[0][0]       \n",
            "__________________________________________________________________________________________________\n",
            "block_13_depthwise (DepthwiseCo (None, 7, 7, 576)    5184        block_13_pad[0][0]               \n",
            "__________________________________________________________________________________________________\n",
            "block_13_depthwise_BN (BatchNor (None, 7, 7, 576)    2304        block_13_depthwise[0][0]         \n",
            "__________________________________________________________________________________________________\n",
            "block_13_depthwise_relu (ReLU)  (None, 7, 7, 576)    0           block_13_depthwise_BN[0][0]      \n",
            "__________________________________________________________________________________________________\n",
            "block_13_project (Conv2D)       (None, 7, 7, 160)    92160       block_13_depthwise_relu[0][0]    \n",
            "__________________________________________________________________________________________________\n",
            "block_13_project_BN (BatchNorma (None, 7, 7, 160)    640         block_13_project[0][0]           \n",
            "__________________________________________________________________________________________________\n",
            "block_14_expand (Conv2D)        (None, 7, 7, 960)    153600      block_13_project_BN[0][0]        \n",
            "__________________________________________________________________________________________________\n",
            "block_14_expand_BN (BatchNormal (None, 7, 7, 960)    3840        block_14_expand[0][0]            \n",
            "__________________________________________________________________________________________________\n",
            "block_14_expand_relu (ReLU)     (None, 7, 7, 960)    0           block_14_expand_BN[0][0]         \n",
            "__________________________________________________________________________________________________\n",
            "block_14_depthwise (DepthwiseCo (None, 7, 7, 960)    8640        block_14_expand_relu[0][0]       \n",
            "__________________________________________________________________________________________________\n",
            "block_14_depthwise_BN (BatchNor (None, 7, 7, 960)    3840        block_14_depthwise[0][0]         \n",
            "__________________________________________________________________________________________________\n",
            "block_14_depthwise_relu (ReLU)  (None, 7, 7, 960)    0           block_14_depthwise_BN[0][0]      \n",
            "__________________________________________________________________________________________________\n",
            "block_14_project (Conv2D)       (None, 7, 7, 160)    153600      block_14_depthwise_relu[0][0]    \n",
            "__________________________________________________________________________________________________\n",
            "block_14_project_BN (BatchNorma (None, 7, 7, 160)    640         block_14_project[0][0]           \n",
            "__________________________________________________________________________________________________\n",
            "block_14_add (Add)              (None, 7, 7, 160)    0           block_13_project_BN[0][0]        \n",
            "                                                                 block_14_project_BN[0][0]        \n",
            "__________________________________________________________________________________________________\n",
            "block_15_expand (Conv2D)        (None, 7, 7, 960)    153600      block_14_add[0][0]               \n",
            "__________________________________________________________________________________________________\n",
            "block_15_expand_BN (BatchNormal (None, 7, 7, 960)    3840        block_15_expand[0][0]            \n",
            "__________________________________________________________________________________________________\n",
            "block_15_expand_relu (ReLU)     (None, 7, 7, 960)    0           block_15_expand_BN[0][0]         \n",
            "__________________________________________________________________________________________________\n",
            "block_15_depthwise (DepthwiseCo (None, 7, 7, 960)    8640        block_15_expand_relu[0][0]       \n",
            "__________________________________________________________________________________________________\n",
            "block_15_depthwise_BN (BatchNor (None, 7, 7, 960)    3840        block_15_depthwise[0][0]         \n",
            "__________________________________________________________________________________________________\n",
            "block_15_depthwise_relu (ReLU)  (None, 7, 7, 960)    0           block_15_depthwise_BN[0][0]      \n",
            "__________________________________________________________________________________________________\n",
            "block_15_project (Conv2D)       (None, 7, 7, 160)    153600      block_15_depthwise_relu[0][0]    \n",
            "__________________________________________________________________________________________________\n",
            "block_15_project_BN (BatchNorma (None, 7, 7, 160)    640         block_15_project[0][0]           \n",
            "__________________________________________________________________________________________________\n",
            "block_15_add (Add)              (None, 7, 7, 160)    0           block_14_add[0][0]               \n",
            "                                                                 block_15_project_BN[0][0]        \n",
            "__________________________________________________________________________________________________\n",
            "block_16_expand (Conv2D)        (None, 7, 7, 960)    153600      block_15_add[0][0]               \n",
            "__________________________________________________________________________________________________\n",
            "block_16_expand_BN (BatchNormal (None, 7, 7, 960)    3840        block_16_expand[0][0]            \n",
            "__________________________________________________________________________________________________\n",
            "block_16_expand_relu (ReLU)     (None, 7, 7, 960)    0           block_16_expand_BN[0][0]         \n",
            "__________________________________________________________________________________________________\n",
            "block_16_depthwise (DepthwiseCo (None, 7, 7, 960)    8640        block_16_expand_relu[0][0]       \n",
            "__________________________________________________________________________________________________\n",
            "block_16_depthwise_BN (BatchNor (None, 7, 7, 960)    3840        block_16_depthwise[0][0]         \n",
            "__________________________________________________________________________________________________\n",
            "block_16_depthwise_relu (ReLU)  (None, 7, 7, 960)    0           block_16_depthwise_BN[0][0]      \n",
            "__________________________________________________________________________________________________\n",
            "block_16_project (Conv2D)       (None, 7, 7, 320)    307200      block_16_depthwise_relu[0][0]    \n",
            "__________________________________________________________________________________________________\n",
            "block_16_project_BN (BatchNorma (None, 7, 7, 320)    1280        block_16_project[0][0]           \n",
            "__________________________________________________________________________________________________\n",
            "Conv_1 (Conv2D)                 (None, 7, 7, 1280)   409600      block_16_project_BN[0][0]        \n",
            "__________________________________________________________________________________________________\n",
            "Conv_1_bn (BatchNormalization)  (None, 7, 7, 1280)   5120        Conv_1[0][0]                     \n",
            "__________________________________________________________________________________________________\n",
            "out_relu (ReLU)                 (None, 7, 7, 1280)   0           Conv_1_bn[0][0]                  \n",
            "__________________________________________________________________________________________________\n",
            "max_pooling2d_1 (MaxPooling2D)  (None, 1, 1, 1280)   0           out_relu[0][0]                   \n",
            "__________________________________________________________________________________________________\n",
            "flatten (Flatten)               (None, 1280)         0           max_pooling2d_1[0][0]            \n",
            "__________________________________________________________________________________________________\n",
            "dense (Dense)                   (None, 128)          163968      flatten[0][0]                    \n",
            "__________________________________________________________________________________________________\n",
            "dense_1 (Dense)                 (None, 64)           8256        dense[0][0]                      \n",
            "__________________________________________________________________________________________________\n",
            "dropout (Dropout)               (None, 64)           0           dense_1[0][0]                    \n",
            "__________________________________________________________________________________________________\n",
            "dense_2 (Dense)                 (None, 2)            130         dropout[0][0]                    \n",
            "==================================================================================================\n",
            "Total params: 2,430,338\n",
            "Trainable params: 2,396,226\n",
            "Non-trainable params: 34,112\n",
            "__________________________________________________________________________________________________\n"
          ],
          "name": "stdout"
        }
      ]
    },
    {
      "cell_type": "code",
      "metadata": {
        "id": "cqZ6A1ggybg8",
        "colab_type": "code",
        "colab": {
          "base_uri": "https://localhost:8080/",
          "height": 1000
        },
        "outputId": "63448ad5-2ea8-4a9b-889d-8a39c4d647b8"
      },
      "source": [
        "base.layers"
      ],
      "execution_count": 28,
      "outputs": [
        {
          "output_type": "execute_result",
          "data": {
            "text/plain": [
              "[<tensorflow.python.keras.engine.input_layer.InputLayer at 0x7f793a1a4a90>,\n",
              " <tensorflow.python.keras.layers.convolutional.ZeroPadding2D at 0x7f793a1a4c18>,\n",
              " <tensorflow.python.keras.layers.convolutional.Conv2D at 0x7f793a1a4dd8>,\n",
              " <tensorflow.python.keras.layers.normalization_v2.BatchNormalization at 0x7f793a1a0240>,\n",
              " <tensorflow.python.keras.layers.advanced_activations.ReLU at 0x7f793a1a0f98>,\n",
              " <tensorflow.python.keras.layers.convolutional.DepthwiseConv2D at 0x7f793a1a0ba8>,\n",
              " <tensorflow.python.keras.layers.normalization_v2.BatchNormalization at 0x7f793a1cb828>,\n",
              " <tensorflow.python.keras.layers.advanced_activations.ReLU at 0x7f793a1cbb38>,\n",
              " <tensorflow.python.keras.layers.convolutional.Conv2D at 0x7f793a1d32e8>,\n",
              " <tensorflow.python.keras.layers.normalization_v2.BatchNormalization at 0x7f793a179710>,\n",
              " <tensorflow.python.keras.layers.convolutional.Conv2D at 0x7f793a179fd0>,\n",
              " <tensorflow.python.keras.layers.normalization_v2.BatchNormalization at 0x7f793a1253c8>,\n",
              " <tensorflow.python.keras.layers.advanced_activations.ReLU at 0x7f793a125eb8>,\n",
              " <tensorflow.python.keras.layers.convolutional.ZeroPadding2D at 0x7f793a125ac8>,\n",
              " <tensorflow.python.keras.layers.convolutional.DepthwiseConv2D at 0x7f793a154278>,\n",
              " <tensorflow.python.keras.layers.normalization_v2.BatchNormalization at 0x7f793a154d30>,\n",
              " <tensorflow.python.keras.layers.advanced_activations.ReLU at 0x7f793a15a9e8>,\n",
              " <tensorflow.python.keras.layers.convolutional.Conv2D at 0x7f793a15a3c8>,\n",
              " <tensorflow.python.keras.layers.normalization_v2.BatchNormalization at 0x7f793a100cc0>,\n",
              " <tensorflow.python.keras.layers.convolutional.Conv2D at 0x7f793a105400>,\n",
              " <tensorflow.python.keras.layers.normalization_v2.BatchNormalization at 0x7f793a0ad908>,\n",
              " <tensorflow.python.keras.layers.advanced_activations.ReLU at 0x7f793a0addd8>,\n",
              " <tensorflow.python.keras.layers.convolutional.DepthwiseConv2D at 0x7f793a0b30f0>,\n",
              " <tensorflow.python.keras.layers.normalization_v2.BatchNormalization at 0x7f793a0d8cf8>,\n",
              " <tensorflow.python.keras.layers.advanced_activations.ReLU at 0x7f793a05d940>,\n",
              " <tensorflow.python.keras.layers.convolutional.Conv2D at 0x7f793a05d080>,\n",
              " <tensorflow.python.keras.layers.normalization_v2.BatchNormalization at 0x7f793a084c50>,\n",
              " <tensorflow.python.keras.layers.merge.Add at 0x7f793a08c390>,\n",
              " <tensorflow.python.keras.layers.convolutional.Conv2D at 0x7f793a08c3c8>,\n",
              " <tensorflow.python.keras.layers.normalization_v2.BatchNormalization at 0x7f793a034d68>,\n",
              " <tensorflow.python.keras.layers.advanced_activations.ReLU at 0x7f793a03b860>,\n",
              " <tensorflow.python.keras.layers.convolutional.ZeroPadding2D at 0x7f793a03b240>,\n",
              " <tensorflow.python.keras.layers.convolutional.DepthwiseConv2D at 0x7f7939fe1c50>,\n",
              " <tensorflow.python.keras.layers.normalization_v2.BatchNormalization at 0x7f7939fe82b0>,\n",
              " <tensorflow.python.keras.layers.advanced_activations.ReLU at 0x7f7939fe8fd0>,\n",
              " <tensorflow.python.keras.layers.convolutional.Conv2D at 0x7f7939fee1d0>,\n",
              " <tensorflow.python.keras.layers.normalization_v2.BatchNormalization at 0x7f793a0165f8>,\n",
              " <tensorflow.python.keras.layers.convolutional.Conv2D at 0x7f793a016dd8>,\n",
              " <tensorflow.python.keras.layers.normalization_v2.BatchNormalization at 0x7f7939fc22e8>,\n",
              " <tensorflow.python.keras.layers.advanced_activations.ReLU at 0x7f7939fc2da0>,\n",
              " <tensorflow.python.keras.layers.convolutional.DepthwiseConv2D at 0x7f7939fc2a58>,\n",
              " <tensorflow.python.keras.layers.normalization_v2.BatchNormalization at 0x7f7939f6d6a0>,\n",
              " <tensorflow.python.keras.layers.advanced_activations.ReLU at 0x7f7939f6da58>,\n",
              " <tensorflow.python.keras.layers.convolutional.Conv2D at 0x7f7939f94b00>,\n",
              " <tensorflow.python.keras.layers.normalization_v2.BatchNormalization at 0x7f7939f1b588>,\n",
              " <tensorflow.python.keras.layers.merge.Add at 0x7f7939f1bd68>,\n",
              " <tensorflow.python.keras.layers.convolutional.Conv2D at 0x7f7939f24198>,\n",
              " <tensorflow.python.keras.layers.normalization_v2.BatchNormalization at 0x7f7939f496d8>,\n",
              " <tensorflow.python.keras.layers.advanced_activations.ReLU at 0x7f7939f49f60>,\n",
              " <tensorflow.python.keras.layers.convolutional.DepthwiseConv2D at 0x7f7939f4f240>,\n",
              " <tensorflow.python.keras.layers.normalization_v2.BatchNormalization at 0x7f7939ef7ac8>,\n",
              " <tensorflow.python.keras.layers.advanced_activations.ReLU at 0x7f7939ef7dd8>,\n",
              " <tensorflow.python.keras.layers.convolutional.Conv2D at 0x7f7939efd588>,\n",
              " <tensorflow.python.keras.layers.normalization_v2.BatchNormalization at 0x7f7939ea39b0>,\n",
              " <tensorflow.python.keras.layers.merge.Add at 0x7f7939ea9588>,\n",
              " <tensorflow.python.keras.layers.convolutional.Conv2D at 0x7f7939ea9278>,\n",
              " <tensorflow.python.keras.layers.normalization_v2.BatchNormalization at 0x7f7939ed2b00>,\n",
              " <tensorflow.python.keras.layers.advanced_activations.ReLU at 0x7f7939ed8630>,\n",
              " <tensorflow.python.keras.layers.convolutional.ZeroPadding2D at 0x7f7939ed81d0>,\n",
              " <tensorflow.python.keras.layers.convolutional.DepthwiseConv2D at 0x7f7939e7e9b0>,\n",
              " <tensorflow.python.keras.layers.normalization_v2.BatchNormalization at 0x7f7939e85710>,\n",
              " <tensorflow.python.keras.layers.advanced_activations.ReLU at 0x7f7939e85eb8>,\n",
              " <tensorflow.python.keras.layers.convolutional.Conv2D at 0x7f7939e85e80>,\n",
              " <tensorflow.python.keras.layers.normalization_v2.BatchNormalization at 0x7f7939e333c8>,\n",
              " <tensorflow.python.keras.layers.convolutional.Conv2D at 0x7f7939e33b38>,\n",
              " <tensorflow.python.keras.layers.normalization_v2.BatchNormalization at 0x7f7939de0208>,\n",
              " <tensorflow.python.keras.layers.advanced_activations.ReLU at 0x7f7939de0b70>,\n",
              " <tensorflow.python.keras.layers.convolutional.DepthwiseConv2D at 0x7f7939de0780>,\n",
              " <tensorflow.python.keras.layers.normalization_v2.BatchNormalization at 0x7f7939e0b0f0>,\n",
              " <tensorflow.python.keras.layers.advanced_activations.ReLU at 0x7f7939e0bc50>,\n",
              " <tensorflow.python.keras.layers.convolutional.Conv2D at 0x7f7939e0be48>,\n",
              " <tensorflow.python.keras.layers.normalization_v2.BatchNormalization at 0x7f7939dba358>,\n",
              " <tensorflow.python.keras.layers.merge.Add at 0x7f7939dbaac8>,\n",
              " <tensorflow.python.keras.layers.convolutional.Conv2D at 0x7f7939dbab00>,\n",
              " <tensorflow.python.keras.layers.normalization_v2.BatchNormalization at 0x7f7939d684a8>,\n",
              " <tensorflow.python.keras.layers.advanced_activations.ReLU at 0x7f7939d68b70>,\n",
              " <tensorflow.python.keras.layers.convolutional.DepthwiseConv2D at 0x7f7939d68b00>,\n",
              " <tensorflow.python.keras.layers.normalization_v2.BatchNormalization at 0x7f7939d94898>,\n",
              " <tensorflow.python.keras.layers.advanced_activations.ReLU at 0x7f7939d94ba8>,\n",
              " <tensorflow.python.keras.layers.convolutional.Conv2D at 0x7f7939d99358>,\n",
              " <tensorflow.python.keras.layers.normalization_v2.BatchNormalization at 0x7f7939d3f780>,\n",
              " <tensorflow.python.keras.layers.merge.Add at 0x7f7939d3fe80>,\n",
              " <tensorflow.python.keras.layers.convolutional.Conv2D at 0x7f7939d45390>,\n",
              " <tensorflow.python.keras.layers.normalization_v2.BatchNormalization at 0x7f7939cee8d0>,\n",
              " <tensorflow.python.keras.layers.advanced_activations.ReLU at 0x7f7939ceeda0>,\n",
              " <tensorflow.python.keras.layers.convolutional.DepthwiseConv2D at 0x7f7939cf30b8>,\n",
              " <tensorflow.python.keras.layers.normalization_v2.BatchNormalization at 0x7f7939c9ccc0>,\n",
              " <tensorflow.python.keras.layers.advanced_activations.ReLU at 0x7f7939c9c940>,\n",
              " <tensorflow.python.keras.layers.convolutional.Conv2D at 0x7f7939ca24e0>,\n",
              " <tensorflow.python.keras.layers.normalization_v2.BatchNormalization at 0x7f7939cc9c18>,\n",
              " <tensorflow.python.keras.layers.merge.Add at 0x7f7939cd0358>,\n",
              " <tensorflow.python.keras.layers.convolutional.Conv2D at 0x7f7939cd0390>,\n",
              " <tensorflow.python.keras.layers.normalization_v2.BatchNormalization at 0x7f7939c75d30>,\n",
              " <tensorflow.python.keras.layers.advanced_activations.ReLU at 0x7f7939c7c828>,\n",
              " <tensorflow.python.keras.layers.convolutional.DepthwiseConv2D at 0x7f7939c7c438>,\n",
              " <tensorflow.python.keras.layers.normalization_v2.BatchNormalization at 0x7f7939c29470>,\n",
              " <tensorflow.python.keras.layers.advanced_activations.ReLU at 0x7f7939c29d68>,\n",
              " <tensorflow.python.keras.layers.convolutional.Conv2D at 0x7f7939c29748>,\n",
              " <tensorflow.python.keras.layers.normalization_v2.BatchNormalization at 0x7f7939c5a048>,\n",
              " <tensorflow.python.keras.layers.convolutional.Conv2D at 0x7f7939c5a780>,\n",
              " <tensorflow.python.keras.layers.normalization_v2.BatchNormalization at 0x7f7939bffeb8>,\n",
              " <tensorflow.python.keras.layers.advanced_activations.ReLU at 0x7f7939c037b8>,\n",
              " <tensorflow.python.keras.layers.convolutional.DepthwiseConv2D at 0x7f7939c033c8>,\n",
              " <tensorflow.python.keras.layers.normalization_v2.BatchNormalization at 0x7f7939bb22b0>,\n",
              " <tensorflow.python.keras.layers.advanced_activations.ReLU at 0x7f7939bb2d30>,\n",
              " <tensorflow.python.keras.layers.convolutional.Conv2D at 0x7f7939bb2b70>,\n",
              " <tensorflow.python.keras.layers.normalization_v2.BatchNormalization at 0x7f7939b604e0>,\n",
              " <tensorflow.python.keras.layers.merge.Add at 0x7f7939b60710>,\n",
              " <tensorflow.python.keras.layers.convolutional.Conv2D at 0x7f7939b60748>,\n",
              " <tensorflow.python.keras.layers.normalization_v2.BatchNormalization at 0x7f7939b8b0f0>,\n",
              " <tensorflow.python.keras.layers.advanced_activations.ReLU at 0x7f7939b8bbe0>,\n",
              " <tensorflow.python.keras.layers.convolutional.DepthwiseConv2D at 0x7f7939b8b7f0>,\n",
              " <tensorflow.python.keras.layers.normalization_v2.BatchNormalization at 0x7f7939b38160>,\n",
              " <tensorflow.python.keras.layers.advanced_activations.ReLU at 0x7f7939b38cc0>,\n",
              " <tensorflow.python.keras.layers.convolutional.Conv2D at 0x7f7939b38eb8>,\n",
              " <tensorflow.python.keras.layers.normalization_v2.BatchNormalization at 0x7f7939ae93c8>,\n",
              " <tensorflow.python.keras.layers.merge.Add at 0x7f7939ae9b38>,\n",
              " <tensorflow.python.keras.layers.convolutional.Conv2D at 0x7f7939ae9b70>,\n",
              " <tensorflow.python.keras.layers.normalization_v2.BatchNormalization at 0x7f7939b15518>,\n",
              " <tensorflow.python.keras.layers.advanced_activations.ReLU at 0x7f7939b15da0>,\n",
              " <tensorflow.python.keras.layers.convolutional.ZeroPadding2D at 0x7f7939b15eb8>,\n",
              " <tensorflow.python.keras.layers.convolutional.DepthwiseConv2D at 0x7f7939ac43c8>,\n",
              " <tensorflow.python.keras.layers.normalization_v2.BatchNormalization at 0x7f7939ac4630>,\n",
              " <tensorflow.python.keras.layers.advanced_activations.ReLU at 0x7f7939ac8b70>,\n",
              " <tensorflow.python.keras.layers.convolutional.Conv2D at 0x7f7939ac89b0>,\n",
              " <tensorflow.python.keras.layers.normalization_v2.BatchNormalization at 0x7f7939a70e10>,\n",
              " <tensorflow.python.keras.layers.convolutional.Conv2D at 0x7f7939a76550>,\n",
              " <tensorflow.python.keras.layers.normalization_v2.BatchNormalization at 0x7f7939a1ba58>,\n",
              " <tensorflow.python.keras.layers.advanced_activations.ReLU at 0x7f7939a225c0>,\n",
              " <tensorflow.python.keras.layers.convolutional.DepthwiseConv2D at 0x7f7939a22278>,\n",
              " <tensorflow.python.keras.layers.normalization_v2.BatchNormalization at 0x7f7939a49940>,\n",
              " <tensorflow.python.keras.layers.advanced_activations.ReLU at 0x7f7939a4fb00>,\n",
              " <tensorflow.python.keras.layers.convolutional.Conv2D at 0x7f7939a4f940>,\n",
              " <tensorflow.python.keras.layers.normalization_v2.BatchNormalization at 0x7f79399f3da0>,\n",
              " <tensorflow.python.keras.layers.merge.Add at 0x7f79399fc4e0>,\n",
              " <tensorflow.python.keras.layers.convolutional.Conv2D at 0x7f79399fc518>,\n",
              " <tensorflow.python.keras.layers.normalization_v2.BatchNormalization at 0x7f79399a5eb8>,\n",
              " <tensorflow.python.keras.layers.advanced_activations.ReLU at 0x7f79399ac9b0>,\n",
              " <tensorflow.python.keras.layers.convolutional.DepthwiseConv2D at 0x7f79399ac5c0>,\n",
              " <tensorflow.python.keras.layers.normalization_v2.BatchNormalization at 0x7f79399d94a8>,\n",
              " <tensorflow.python.keras.layers.advanced_activations.ReLU at 0x7f79399d9f28>,\n",
              " <tensorflow.python.keras.layers.convolutional.Conv2D at 0x7f79399d9d68>,\n",
              " <tensorflow.python.keras.layers.normalization_v2.BatchNormalization at 0x7f7939989198>,\n",
              " <tensorflow.python.keras.layers.merge.Add at 0x7f7939989908>,\n",
              " <tensorflow.python.keras.layers.convolutional.Conv2D at 0x7f7939989940>,\n",
              " <tensorflow.python.keras.layers.normalization_v2.BatchNormalization at 0x7f79399352e8>,\n",
              " <tensorflow.python.keras.layers.advanced_activations.ReLU at 0x7f7939935dd8>,\n",
              " <tensorflow.python.keras.layers.convolutional.DepthwiseConv2D at 0x7f7939935a90>,\n",
              " <tensorflow.python.keras.layers.normalization_v2.BatchNormalization at 0x7f79398e26d8>,\n",
              " <tensorflow.python.keras.layers.advanced_activations.ReLU at 0x7f79398e2a90>,\n",
              " <tensorflow.python.keras.layers.convolutional.Conv2D at 0x7f79398e8358>,\n",
              " <tensorflow.python.keras.layers.normalization_v2.BatchNormalization at 0x7f79399105c0>,\n",
              " <tensorflow.python.keras.layers.convolutional.Conv2D at 0x7f7939910da0>,\n",
              " <tensorflow.python.keras.layers.normalization_v2.BatchNormalization at 0x7f79398bc2b0>,\n",
              " <tensorflow.python.keras.layers.advanced_activations.ReLU at 0x7f79398bcd68>]"
            ]
          },
          "metadata": {
            "tags": []
          },
          "execution_count": 28
        }
      ]
    },
    {
      "cell_type": "code",
      "metadata": {
        "id": "RbkQZ-7syvPb",
        "colab_type": "code",
        "colab": {}
      },
      "source": [
        "for l in base.layers:\n",
        "  l.trainable = False\n"
      ],
      "execution_count": 0,
      "outputs": []
    },
    {
      "cell_type": "code",
      "metadata": {
        "id": "agY8PD_2y3iI",
        "colab_type": "code",
        "colab": {}
      },
      "source": [
        "adm = Adam(lr=int_lr, decay=int_lr / epoch)"
      ],
      "execution_count": 0,
      "outputs": []
    },
    {
      "cell_type": "code",
      "metadata": {
        "id": "TEY-T6XFzGKA",
        "colab_type": "code",
        "colab": {}
      },
      "source": [
        "model.compile(loss=\"binary_crossentropy\", optimizer=adm,metrics=[\"accuracy\"])"
      ],
      "execution_count": 0,
      "outputs": []
    },
    {
      "cell_type": "code",
      "metadata": {
        "id": "BRl1wRZMzU16",
        "colab_type": "code",
        "colab": {
          "base_uri": "https://localhost:8080/",
          "height": 918
        },
        "outputId": "6d989daa-e0f1-4397-903e-62de58c79979"
      },
      "source": [
        "fit_model = model.fit_generator(mygen.flow(trainX, trainY, batch_size=bs),\n",
        "                        steps_per_epoch=len(trainX) // bs,\n",
        "                        validation_data=(testX, testY),\n",
        "                        validation_steps=len(testX) // bs,\n",
        "                        epochs=epoch) "
      ],
      "execution_count": 33,
      "outputs": [
        {
          "output_type": "stream",
          "text": [
            "WARNING:tensorflow:From <ipython-input-33-ef1204471ec4>:5: Model.fit_generator (from tensorflow.python.keras.engine.training) is deprecated and will be removed in a future version.\n",
            "Instructions for updating:\n",
            "Please use Model.fit, which supports generators.\n",
            "Epoch 1/25\n",
            "34/34 [==============================] - 12s 349ms/step - loss: 0.4203 - accuracy: 0.8943 - val_loss: 0.0131 - val_accuracy: 0.9928\n",
            "Epoch 2/25\n",
            "34/34 [==============================] - 11s 322ms/step - loss: 0.0534 - accuracy: 0.9831 - val_loss: 0.0058 - val_accuracy: 0.9964\n",
            "Epoch 3/25\n",
            "34/34 [==============================] - 11s 314ms/step - loss: 0.0622 - accuracy: 0.9803 - val_loss: 0.0148 - val_accuracy: 0.9964\n",
            "Epoch 4/25\n",
            "34/34 [==============================] - 11s 314ms/step - loss: 0.0117 - accuracy: 0.9963 - val_loss: 0.0158 - val_accuracy: 0.9891\n",
            "Epoch 5/25\n",
            "34/34 [==============================] - 11s 314ms/step - loss: 0.0083 - accuracy: 0.9981 - val_loss: 0.0014 - val_accuracy: 1.0000\n",
            "Epoch 6/25\n",
            "34/34 [==============================] - 11s 316ms/step - loss: 0.0032 - accuracy: 1.0000 - val_loss: 3.6695e-04 - val_accuracy: 1.0000\n",
            "Epoch 7/25\n",
            "34/34 [==============================] - 11s 315ms/step - loss: 0.0020 - accuracy: 1.0000 - val_loss: 8.5632e-04 - val_accuracy: 1.0000\n",
            "Epoch 8/25\n",
            "34/34 [==============================] - 11s 314ms/step - loss: 0.0105 - accuracy: 0.9963 - val_loss: 0.0111 - val_accuracy: 0.9964\n",
            "Epoch 9/25\n",
            "34/34 [==============================] - 11s 317ms/step - loss: 0.0107 - accuracy: 0.9981 - val_loss: 2.0004e-04 - val_accuracy: 1.0000\n",
            "Epoch 10/25\n",
            "34/34 [==============================] - 11s 313ms/step - loss: 0.0557 - accuracy: 0.9850 - val_loss: 0.0384 - val_accuracy: 0.9855\n",
            "Epoch 11/25\n",
            "34/34 [==============================] - 11s 314ms/step - loss: 0.1095 - accuracy: 0.9775 - val_loss: 0.0819 - val_accuracy: 0.9819\n",
            "Epoch 12/25\n",
            "34/34 [==============================] - 11s 314ms/step - loss: 0.1133 - accuracy: 0.9719 - val_loss: 0.0083 - val_accuracy: 0.9964\n",
            "Epoch 13/25\n",
            "34/34 [==============================] - 11s 312ms/step - loss: 0.0058 - accuracy: 0.9972 - val_loss: 9.2740e-05 - val_accuracy: 1.0000\n",
            "Epoch 14/25\n",
            "34/34 [==============================] - 11s 315ms/step - loss: 0.0050 - accuracy: 0.9972 - val_loss: 0.0013 - val_accuracy: 1.0000\n",
            "Epoch 15/25\n",
            "34/34 [==============================] - 11s 311ms/step - loss: 0.0086 - accuracy: 0.9991 - val_loss: 1.0795e-04 - val_accuracy: 1.0000\n",
            "Epoch 16/25\n",
            "34/34 [==============================] - 11s 311ms/step - loss: 0.0099 - accuracy: 0.9981 - val_loss: 1.8101e-04 - val_accuracy: 1.0000\n",
            "Epoch 17/25\n",
            "34/34 [==============================] - 11s 311ms/step - loss: 0.0039 - accuracy: 0.9991 - val_loss: 7.2101e-05 - val_accuracy: 1.0000\n",
            "Epoch 18/25\n",
            "34/34 [==============================] - 11s 310ms/step - loss: 0.0022 - accuracy: 0.9981 - val_loss: 0.0050 - val_accuracy: 0.9964\n",
            "Epoch 19/25\n",
            "34/34 [==============================] - 11s 312ms/step - loss: 0.0024 - accuracy: 0.9991 - val_loss: 1.4235e-04 - val_accuracy: 1.0000\n",
            "Epoch 20/25\n",
            "34/34 [==============================] - 11s 311ms/step - loss: 0.0037 - accuracy: 0.9981 - val_loss: 0.0177 - val_accuracy: 0.9964\n",
            "Epoch 21/25\n",
            "34/34 [==============================] - 11s 313ms/step - loss: 0.0080 - accuracy: 0.9981 - val_loss: 1.0070e-04 - val_accuracy: 1.0000\n",
            "Epoch 22/25\n",
            "34/34 [==============================] - 11s 311ms/step - loss: 1.4584e-04 - accuracy: 1.0000 - val_loss: 8.2228e-04 - val_accuracy: 1.0000\n",
            "Epoch 23/25\n",
            "34/34 [==============================] - 11s 311ms/step - loss: 6.6968e-05 - accuracy: 1.0000 - val_loss: 0.0011 - val_accuracy: 1.0000\n",
            "Epoch 24/25\n",
            "34/34 [==============================] - 11s 310ms/step - loss: 8.9158e-05 - accuracy: 1.0000 - val_loss: 0.0012 - val_accuracy: 1.0000\n",
            "Epoch 25/25\n",
            "34/34 [==============================] - 11s 311ms/step - loss: 4.0909e-04 - accuracy: 1.0000 - val_loss: 6.5093e-05 - val_accuracy: 1.0000\n"
          ],
          "name": "stdout"
        }
      ]
    },
    {
      "cell_type": "code",
      "metadata": {
        "id": "zZqjjVOozkFi",
        "colab_type": "code",
        "colab": {
          "base_uri": "https://localhost:8080/",
          "height": 34
        },
        "outputId": "12de5b8c-8ab0-4848-eb2f-b60dc7c3e000"
      },
      "source": [
        "predIdxs = model.predict(testX, batch_size=bs)\n",
        "type(predIdxs)"
      ],
      "execution_count": 50,
      "outputs": [
        {
          "output_type": "execute_result",
          "data": {
            "text/plain": [
              "numpy.ndarray"
            ]
          },
          "metadata": {
            "tags": []
          },
          "execution_count": 50
        }
      ]
    },
    {
      "cell_type": "code",
      "metadata": {
        "id": "bI2mUcvC0v8i",
        "colab_type": "code",
        "colab": {
          "base_uri": "https://localhost:8080/",
          "height": 34
        },
        "outputId": "f52aba65-5601-4e09-f7cf-2716b2ce857d"
      },
      "source": [
        "len(predIdxs)"
      ],
      "execution_count": 51,
      "outputs": [
        {
          "output_type": "execute_result",
          "data": {
            "text/plain": [
              "276"
            ]
          },
          "metadata": {
            "tags": []
          },
          "execution_count": 51
        }
      ]
    },
    {
      "cell_type": "code",
      "metadata": {
        "id": "XznGsonSBDd-",
        "colab_type": "code",
        "colab": {}
      },
      "source": [
        "model.save_weights('./')"
      ],
      "execution_count": 0,
      "outputs": []
    },
    {
      "cell_type": "code",
      "metadata": {
        "id": "JBq_q-gsBOv-",
        "colab_type": "code",
        "colab": {}
      },
      "source": [
        "model.save('facemask_detection.h5')"
      ],
      "execution_count": 0,
      "outputs": []
    },
    {
      "cell_type": "code",
      "metadata": {
        "id": "Hnkc-xBA0zKh",
        "colab_type": "code",
        "colab": {
          "base_uri": "https://localhost:8080/",
          "height": 34
        },
        "outputId": "793758ff-351a-4661-e3a1-05f742d8b54e"
      },
      "source": [
        "predIdxs[1]"
      ],
      "execution_count": 36,
      "outputs": [
        {
          "output_type": "execute_result",
          "data": {
            "text/plain": [
              "array([1.0000000e+00, 1.2419531e-17], dtype=float32)"
            ]
          },
          "metadata": {
            "tags": []
          },
          "execution_count": 36
        }
      ]
    },
    {
      "cell_type": "code",
      "metadata": {
        "id": "QRirI2MW046e",
        "colab_type": "code",
        "colab": {}
      },
      "source": [
        "predId= np.argmax(predIdxs, axis = 1)"
      ],
      "execution_count": 0,
      "outputs": []
    },
    {
      "cell_type": "code",
      "metadata": {
        "id": "c_nb1B5N0_4W",
        "colab_type": "code",
        "colab": {
          "base_uri": "https://localhost:8080/",
          "height": 238
        },
        "outputId": "e4a46c80-d9be-4feb-b819-c5baefa13e7c"
      },
      "source": [
        "predId"
      ],
      "execution_count": 38,
      "outputs": [
        {
          "output_type": "execute_result",
          "data": {
            "text/plain": [
              "array([0, 0, 1, 0, 1, 1, 0, 1, 0, 1, 1, 1, 0, 0, 1, 1, 0, 1, 0, 1, 0, 1,\n",
              "       0, 0, 0, 1, 0, 0, 1, 1, 0, 0, 1, 0, 1, 0, 1, 0, 1, 1, 0, 1, 1, 1,\n",
              "       0, 1, 0, 0, 1, 0, 1, 0, 0, 1, 0, 1, 0, 0, 1, 0, 0, 0, 1, 0, 1, 1,\n",
              "       0, 1, 1, 0, 0, 1, 1, 1, 0, 0, 0, 0, 0, 1, 1, 0, 1, 1, 0, 0, 0, 1,\n",
              "       1, 0, 1, 0, 1, 0, 1, 1, 0, 1, 0, 0, 0, 1, 1, 1, 0, 0, 1, 1, 1, 1,\n",
              "       0, 0, 1, 1, 1, 0, 0, 1, 1, 1, 1, 1, 0, 1, 0, 1, 1, 1, 0, 1, 1, 1,\n",
              "       1, 1, 0, 1, 1, 0, 1, 1, 1, 0, 1, 0, 1, 1, 0, 0, 0, 1, 0, 1, 0, 1,\n",
              "       0, 1, 0, 1, 1, 0, 1, 0, 0, 1, 1, 0, 1, 0, 1, 0, 1, 1, 0, 1, 1, 0,\n",
              "       0, 0, 1, 1, 0, 0, 1, 1, 0, 0, 0, 0, 1, 1, 0, 1, 0, 1, 0, 1, 1, 1,\n",
              "       0, 1, 0, 0, 0, 1, 0, 1, 1, 0, 0, 0, 0, 1, 1, 0, 0, 0, 0, 0, 0, 0,\n",
              "       1, 0, 0, 0, 0, 1, 0, 0, 0, 0, 0, 1, 1, 0, 1, 0, 1, 0, 1, 0, 1, 0,\n",
              "       0, 1, 1, 1, 0, 1, 0, 0, 0, 1, 1, 0, 1, 1, 0, 0, 1, 1, 1, 0, 1, 0,\n",
              "       0, 1, 1, 1, 1, 0, 0, 1, 1, 0, 0, 0])"
            ]
          },
          "metadata": {
            "tags": []
          },
          "execution_count": 38
        }
      ]
    },
    {
      "cell_type": "code",
      "metadata": {
        "id": "dnkTU-iL1D7u",
        "colab_type": "code",
        "colab": {
          "base_uri": "https://localhost:8080/",
          "height": 170
        },
        "outputId": "60b21413-6f3e-4b17-9753-c9a984eea20d"
      },
      "source": [
        "print(classification_report(testY.argmax(axis=1), predId,\n",
        "\ttarget_names=lb.classes_))"
      ],
      "execution_count": 39,
      "outputs": [
        {
          "output_type": "stream",
          "text": [
            "              precision    recall  f1-score   support\n",
            "\n",
            "   with_mask       1.00      1.00      1.00       138\n",
            "without_mask       1.00      1.00      1.00       138\n",
            "\n",
            "    accuracy                           1.00       276\n",
            "   macro avg       1.00      1.00      1.00       276\n",
            "weighted avg       1.00      1.00      1.00       276\n",
            "\n"
          ],
          "name": "stdout"
        }
      ]
    },
    {
      "cell_type": "code",
      "metadata": {
        "id": "iEIcoyQz1HyW",
        "colab_type": "code",
        "colab": {}
      },
      "source": [
        "from sklearn.metrics import confusion_matrix\n",
        "c_m = confusion_matrix(testY.argmax(axis=1), predId)"
      ],
      "execution_count": 0,
      "outputs": []
    },
    {
      "cell_type": "code",
      "metadata": {
        "id": "pKAoNyak1K_q",
        "colab_type": "code",
        "colab": {
          "base_uri": "https://localhost:8080/",
          "height": 102
        },
        "outputId": "461b5d3d-1e87-4222-9b82-f0ea21df87c9"
      },
      "source": [
        "total = sum(sum(c_m))\n",
        "acc = (c_m[0, 0] + c_m[1, 1]) / total\n",
        "sensitivity = c_m[0, 0] / (c_m[0, 0] + c_m[0, 1])\n",
        "specificity = c_m[1, 1] / (c_m[1, 0] + c_m[1, 1])\n",
        "print(c_m)\n",
        "print(\"acc: {:.4f}\".format(acc))\n",
        "print(\"sensitivity: {:.4f}\".format(sensitivity))\n",
        "print(\"specificity: {:.4f}\".format(specificity))"
      ],
      "execution_count": 42,
      "outputs": [
        {
          "output_type": "stream",
          "text": [
            "[[138   0]\n",
            " [  0 138]]\n",
            "acc: 1.0000\n",
            "sensitivity: 1.0000\n",
            "specificity: 1.0000\n"
          ],
          "name": "stdout"
        }
      ]
    },
    {
      "cell_type": "code",
      "metadata": {
        "id": "5tVKwgbv1dEV",
        "colab_type": "code",
        "colab": {
          "base_uri": "https://localhost:8080/",
          "height": 462
        },
        "outputId": "cd2c849a-947b-4881-f69a-b8865331bd8a"
      },
      "source": [
        "N = epoch\n",
        "plt.style.use(\"ggplot\")\n",
        "plt.rcParams[\"figure.figsize\"]=10,7\n",
        "plt.figure()\n",
        "plt.plot(np.arange(0, N), fit_model.history[\"loss\"], label=\"train_loss\")\n",
        "plt.plot(np.arange(0, N), fit_model.history[\"val_loss\"], label=\"val_loss\")\n",
        "plt.plot(np.arange(0, N), fit_model.history[\"accuracy\"], label=\"train_acc\")\n",
        "plt.plot(np.arange(0, N), fit_model.history[\"val_accuracy\"], label=\"val_acc\")\n",
        "plt.title(\"Training Loss and Accuracy on COVID-19 Dataset\")\n",
        "plt.xlabel(\"Epoch #\")\n",
        "plt.ylabel(\"Loss/Accuracy\")\n",
        "plt.legend(loc=\"lower left\")\n",
        "plt.savefig(\"figure\")"
      ],
      "execution_count": 43,
      "outputs": [
        {
          "output_type": "display_data",
          "data": {
            "image/png": "[encoded data removed]",
            "text/plain": [
              "<Figure size 720x504 with 1 Axes>"
            ]
          },
          "metadata": {
            "tags": []
          }
        }
      ]
    },
    {
      "cell_type": "code",
      "metadata": {
        "id": "elBgZweF1fjl",
        "colab_type": "code",
        "colab": {}
      },
      "source": [
        "# Sometimes validation loss can be less than the training loss due to some factors like Regularization(eg Dropout)"
      ],
      "execution_count": 0,
      "outputs": []
    },
    {
      "cell_type": "code",
      "metadata": {
        "id": "mkrBN5PI3oyJ",
        "colab_type": "code",
        "colab": {
          "base_uri": "https://localhost:8080/",
          "height": 164
        },
        "outputId": "6c656e25-8445-4ce5-aca9-639501bc31f8"
      },
      "source": [
        "model.save(args[\"model\"], save_format=\"h5\")"
      ],
      "execution_count": 48,
      "outputs": [
        {
          "output_type": "error",
          "ename": "NameError",
          "evalue": "ignored",
          "traceback": [
            "\u001b[0;31m---------------------------------------------------------------------------\u001b[0m",
            "\u001b[0;31mNameError\u001b[0m                                 Traceback (most recent call last)",
            "\u001b[0;32m<ipython-input-48-46a51639f2e9>\u001b[0m in \u001b[0;36m<module>\u001b[0;34m()\u001b[0m\n\u001b[0;32m----> 1\u001b[0;31m \u001b[0mmodel\u001b[0m\u001b[0;34m.\u001b[0m\u001b[0msave\u001b[0m\u001b[0;34m(\u001b[0m\u001b[0margs\u001b[0m\u001b[0;34m[\u001b[0m\u001b[0;34m\"model\"\u001b[0m\u001b[0;34m]\u001b[0m\u001b[0;34m,\u001b[0m \u001b[0msave_format\u001b[0m\u001b[0;34m=\u001b[0m\u001b[0;34m\"h5\"\u001b[0m\u001b[0;34m)\u001b[0m\u001b[0;34m\u001b[0m\u001b[0;34m\u001b[0m\u001b[0m\n\u001b[0m",
            "\u001b[0;31mNameError\u001b[0m: name 'args' is not defined"
          ]
        }
      ]
    },
    {
      "cell_type": "code",
      "metadata": {
        "id": "UTHBOAsyAL9I",
        "colab_type": "code",
        "colab": {
          "base_uri": "https://localhost:8080/",
          "height": 34
        },
        "outputId": "5b443c11-605b-4d3a-8ab3-2fe1cf9f26eb"
      },
      "source": [
        "print(1)"
      ],
      "execution_count": 49,
      "outputs": [
        {
          "output_type": "stream",
          "text": [
            "1\n"
          ],
          "name": "stdout"
        }
      ]
    },
    {
      "cell_type": "code",
      "metadata": {
        "id": "2Max2WOgAkmE",
        "colab_type": "code",
        "colab": {
          "base_uri": "https://localhost:8080/",
          "height": 34
        },
        "outputId": "f7272f70-5574-4822-ece9-78c6dc2c2753"
      },
      "source": [
        "os.getcwd()"
      ],
      "execution_count": 5,
      "outputs": [
        {
          "output_type": "execute_result",
          "data": {
            "text/plain": [
              "'/content/mymodel'"
            ]
          },
          "metadata": {
            "tags": []
          },
          "execution_count": 5
        }
      ]
    },
    {
      "cell_type": "code",
      "metadata": {
        "id": "Kmt_tUJnQkGv",
        "colab_type": "code",
        "colab": {}
      },
      "source": [
        "proto_path = \"/content/deploy.prototxt\"\n",
        "weights_path = \"/content/res10_300x300_ssd_iter_140000.caffemodel\""
      ],
      "execution_count": 0,
      "outputs": []
    },
    {
      "cell_type": "code",
      "metadata": {
        "id": "kVjDOchcSgFO",
        "colab_type": "code",
        "colab": {
          "base_uri": "https://localhost:8080/",
          "height": 34
        },
        "outputId": "9050ec00-6a27-456b-d1f6-e2f4b5082c57"
      },
      "source": [
        "weights_path"
      ],
      "execution_count": 13,
      "outputs": [
        {
          "output_type": "execute_result",
          "data": {
            "text/plain": [
              "'/content/res10_300x300_ssd_iter_140000.caffemodel'"
            ]
          },
          "metadata": {
            "tags": []
          },
          "execution_count": 13
        }
      ]
    },
    {
      "cell_type": "code",
      "metadata": {
        "id": "Tzvscu5HSGTY",
        "colab_type": "code",
        "colab": {}
      },
      "source": [
        "import cv2\n",
        "net = cv2.dnn.readNet(proto_path, weights_path)"
      ],
      "execution_count": 0,
      "outputs": []
    },
    {
      "cell_type": "code",
      "metadata": {
        "id": "TZ5TqvC6qXyG",
        "colab_type": "code",
        "colab": {
          "base_uri": "https://localhost:8080/",
          "height": 51
        },
        "outputId": "6570fcff-2d2a-4c9c-e5f1-ad643aca9a0c"
      },
      "source": [
        "!pip install opencv-python==3.4.2.16"
      ],
      "execution_count": 2,
      "outputs": [
        {
          "output_type": "stream",
          "text": [
            "Requirement already satisfied: opencv-python==3.4.2.16 in /usr/local/lib/python3.6/dist-packages (3.4.2.16)\n",
            "Requirement already satisfied: numpy>=1.11.3 in /usr/local/lib/python3.6/dist-packages (from opencv-python==3.4.2.16) (1.18.4)\n"
          ],
          "name": "stdout"
        }
      ]
    },
    {
      "cell_type": "code",
      "metadata": {
        "id": "zVYGrHMXU--0",
        "colab_type": "code",
        "colab": {}
      },
      "source": [
        "import cv2"
      ],
      "execution_count": 0,
      "outputs": []
    },
    {
      "cell_type": "code",
      "metadata": {
        "id": "cO3rZWuLqRsz",
        "colab_type": "code",
        "colab": {
          "base_uri": "https://localhost:8080/",
          "height": 34
        },
        "outputId": "18a51eb9-983a-4ff2-db9e-88c09c48c5d9"
      },
      "source": [
        "cv2.__version__"
      ],
      "execution_count": 4,
      "outputs": [
        {
          "output_type": "execute_result",
          "data": {
            "text/plain": [
              "'3.4.2'"
            ]
          },
          "metadata": {
            "tags": []
          },
          "execution_count": 4
        }
      ]
    },
    {
      "cell_type": "code",
      "metadata": {
        "id": "D5Vy_iusGZN2",
        "colab_type": "code",
        "colab": {}
      },
      "source": [
        "from tensorflow.keras.models import load_model"
      ],
      "execution_count": 0,
      "outputs": []
    },
    {
      "cell_type": "code",
      "metadata": {
        "id": "linkVubgYCwR",
        "colab_type": "code",
        "colab": {}
      },
      "source": [
        "model = load_model('/content/facemask_detection.h5')"
      ],
      "execution_count": 0,
      "outputs": []
    },
    {
      "cell_type": "code",
      "metadata": {
        "id": "Z8C_tUSWrOFv",
        "colab_type": "code",
        "colab": {}
      },
      "source": [
        "image = cv2.imread('/content/mymodel/data/with_mask/10-with-mask.jpg')"
      ],
      "execution_count": 0,
      "outputs": []
    },
    {
      "cell_type": "code",
      "metadata": {
        "id": "QyRml0dDIv3p",
        "colab_type": "code",
        "colab": {
          "base_uri": "https://localhost:8080/",
          "height": 34
        },
        "outputId": "45c63496-7fda-4fb6-81e3-8b87bd3bc981"
      },
      "source": [
        "image.shape[:2]"
      ],
      "execution_count": 54,
      "outputs": [
        {
          "output_type": "execute_result",
          "data": {
            "text/plain": [
              "(350, 233)"
            ]
          },
          "metadata": {
            "tags": []
          },
          "execution_count": 54
        }
      ]
    },
    {
      "cell_type": "code",
      "metadata": {
        "id": "LiRVbbW8vj2S",
        "colab_type": "code",
        "colab": {
          "base_uri": "https://localhost:8080/",
          "height": 286
        },
        "outputId": "f1e8c70f-abd6-45f7-b187-e77368f798ea"
      },
      "source": [
        "plt.imshow(image)"
      ],
      "execution_count": 55,
      "outputs": [
        {
          "output_type": "execute_result",
          "data": {
            "text/plain": [
              "<matplotlib.image.AxesImage at 0x7f64b1387b00>"
            ]
          },
          "metadata": {
            "tags": []
          },
          "execution_count": 55
        },
        {
          "output_type": "display_data",
          "data": {
            "image/png": "[encoded data removed]",
            "text/plain": [
              "<Figure size 432x288 with 1 Axes>"
            ]
          },
          "metadata": {
            "tags": [],
            "needs_background": "light"
          }
        }
      ]
    },
    {
      "cell_type": "code",
      "metadata": {
        "id": "FM7I9YkbwIyN",
        "colab_type": "code",
        "colab": {}
      },
      "source": [
        "orig = image.copy()\n",
        "(h, w) = image.shape[:2]\n",
        "blob = cv2.dnn.blobFromImage(image, 1.0, (300, 300),(104.0, 177.0, 123.0))\n",
        "net.setInput(blob)\n",
        "detections = net.forward()"
      ],
      "execution_count": 0,
      "outputs": []
    },
    {
      "cell_type": "code",
      "metadata": {
        "id": "5HaLFDHXbGuK",
        "colab_type": "code",
        "colab": {
          "base_uri": "https://localhost:8080/",
          "height": 303
        },
        "outputId": "aab9d86d-0ce5-412a-a1f8-b4526d332f2b"
      },
      "source": [
        "for i in range(detections.shape[2]):\n",
        "  if detections[0,0,i,2]>0.5:\n",
        "      box = detections[0, 0, i, 3:7] * np.array([w, h, w, h])\n",
        "      (startX, startY, endX, endY) = box.astype(\"int\")\n",
        "      (startX, startY) = (max(0, startX), max(25, startY))\n",
        "      (endX, endY) = (min(w - 1, endX), min(h - 1, endY))\n",
        "      face = image[startY:endY, startX:endX]\n",
        "      face = cv2.cvtColor(face, cv2.COLOR_BGR2RGB)\n",
        "      face = cv2.resize(face, (224, 224))\n",
        "      face = img_to_array(face)\n",
        "      face = preprocess_input(face)\n",
        "      face = np.expand_dims(face, axis=0)\n",
        "      (mask, withoutMask) = model.predict(face)[0]\n",
        "      print(withoutMask)\n",
        "      if mask > withoutMask:\n",
        "        label = \"Mask\"\n",
        "        color = (200,200,0)\n",
        "      else:\n",
        "          label = \"Without Mask\"\n",
        "          color = (0,200,200)\n",
        "      label = \"{}: {:.2f}%\".format(label, max(mask, withoutMask) * 100)\n",
        "      cv2.putText(image, label, (startX, startY - 10), cv2.FONT_HERSHEY_SIMPLEX, 0.45, color, 2)\n",
        "      cv2.rectangle(image, (startX, startY), (endX, endY), color, 2)\n",
        "from google.colab.patches import cv2_imshow\n",
        "plt.imshow(image)\n"
      ],
      "execution_count": 58,
      "outputs": [
        {
          "output_type": "stream",
          "text": [
            "4.1998243e-05\n"
          ],
          "name": "stdout"
        },
        {
          "output_type": "execute_result",
          "data": {
            "text/plain": [
              "<matplotlib.image.AxesImage at 0x7f64b12dacf8>"
            ]
          },
          "metadata": {
            "tags": []
          },
          "execution_count": 58
        },
        {
          "output_type": "display_data",
          "data": {
            "image/png": "[encoded data removed]",
            "text/plain": [
              "<Figure size 432x288 with 1 Axes>"
            ]
          },
          "metadata": {
            "tags": [],
            "needs_background": "light"
          }
        }
      ]
    }
  ]
}